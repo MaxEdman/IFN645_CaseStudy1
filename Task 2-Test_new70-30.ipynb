{
 "cells": [
  {
   "cell_type": "markdown",
   "metadata": {},
   "source": [
    "<h1>Using the default decision tree settings</h1>"
   ]
  },
  {
   "cell_type": "code",
   "execution_count": 1,
   "metadata": {},
   "outputs": [
    {
     "name": "stdout",
     "output_type": "stream",
     "text": [
      "<class 'pandas.core.frame.DataFrame'>\n",
      "RangeIndex: 22223 entries, 0 to 22222\n",
      "Data columns (total 37 columns):\n",
      "AGE                    22223 non-null float64\n",
      "BILL                   22223 non-null float64\n",
      "ORGYN                  22223 non-null int64\n",
      "AFFL                   22223 non-null int64\n",
      "LTIME                  22223 non-null float64\n",
      "GENDER_F               22223 non-null uint8\n",
      "GENDER_M               22223 non-null uint8\n",
      "GENDER_U               22223 non-null uint8\n",
      "TV_REG_Border          22223 non-null uint8\n",
      "TV_REG_C Scotland      22223 non-null uint8\n",
      "TV_REG_East            22223 non-null uint8\n",
      "TV_REG_London          22223 non-null uint8\n",
      "TV_REG_Midlands        22223 non-null uint8\n",
      "TV_REG_N East          22223 non-null uint8\n",
      "TV_REG_N Scot          22223 non-null uint8\n",
      "TV_REG_N West          22223 non-null uint8\n",
      "TV_REG_S & S East      22223 non-null uint8\n",
      "TV_REG_S West          22223 non-null uint8\n",
      "TV_REG_Ulster          22223 non-null uint8\n",
      "TV_REG_Wales & West    22223 non-null uint8\n",
      "TV_REG_Yorkshire       22223 non-null uint8\n",
      "NGROUP_A               22223 non-null uint8\n",
      "NGROUP_B               22223 non-null uint8\n",
      "NGROUP_C               22223 non-null uint8\n",
      "NGROUP_D               22223 non-null uint8\n",
      "NGROUP_E               22223 non-null uint8\n",
      "NGROUP_F               22223 non-null uint8\n",
      "NGROUP_U               22223 non-null uint8\n",
      "REGION_Midlands        22223 non-null uint8\n",
      "REGION_North           22223 non-null uint8\n",
      "REGION_Scottish        22223 non-null uint8\n",
      "REGION_South East      22223 non-null uint8\n",
      "REGION_South West      22223 non-null uint8\n",
      "CLASS_Gold             22223 non-null uint8\n",
      "CLASS_Platinum         22223 non-null uint8\n",
      "CLASS_Silver           22223 non-null uint8\n",
      "CLASS_Tin              22223 non-null uint8\n",
      "dtypes: float64(3), int64(2), uint8(32)\n",
      "memory usage: 1.5 MB\n"
     ]
    }
   ],
   "source": [
    "# Gets the preprocessed data set for Organics.\n",
    "import casestudy_tools as tools\n",
    "df = tools.preprocess()\n",
    "df.info()"
   ]
  },
  {
   "cell_type": "code",
   "execution_count": 11,
   "metadata": {},
   "outputs": [],
   "source": [
    "# Building a decision tree using the default settings.\n",
    "from sklearn.model_selection import train_test_split\n",
    "from sklearn.tree import DecisionTreeClassifier\n",
    "from sklearn.metrics import classification_report, accuracy_score\n",
    "import numpy as np\n",
    "\n",
    "# Sets target column to ORGYN\n",
    "target_dataset_organics = df['ORGYN'].loc[df['ORGYN'] == 1]\n",
    "# Removes ORGYN from the dataset in order to avoid false predictor.\n",
    "dataset_organics = df.loc[df['ORGYN'] == 1].drop(['ORGYN'], axis=1)\n",
    "\n",
    "# Sets target column to ORGYN\n",
    "target_dataset = df['ORGYN'].loc[df['ORGYN'] == 0]\n",
    "# Removes ORGYN from the dataset in order to avoid false predictor.\n",
    "dataset = df.loc[df['ORGYN'] == 0].drop(['ORGYN'], axis=1)\n",
    "\n",
    "\n",
    "#print(target_dataset_organics)\n",
    "#print(dataset_organics)\n",
    "\n",
    "# Sets random state to 10. This will be kept consistently throughout the case study.\n",
    "random_state = 10\n",
    "# Sets the test size to be 30% of the total data set.\n",
    "test_size = 0.3\n",
    "\n",
    "# Transform the datasets into two matrices.\n",
    "dataset_organics_matrix = dataset_organics.as_matrix()\n",
    "dataset_matrix = dataset.as_matrix()\n",
    "\n",
    "# Splits the data containing individuals purchasing organics into train and test sets.\n",
    "dataset_train_organics, dataset_test_organics, target_dataset_train_organics, target_dataset_test_organics = train_test_split(dataset_organics_matrix,\n",
    "                                                                                                                              target_dataset_organics,\n",
    "                                                                                                                              test_size=test_size,\n",
    "                                                                                                                              stratify=target_dataset_organics,\n",
    "                                                                                                                              random_state=random_state\n",
    "                                                                                                                             )\n",
    "\n",
    "# Splits the data that DO NOT contain individuals purchasing organics into train and test sets.\n",
    "dataset_train, dataset_test, target_dataset_train, target_dataset_test = train_test_split(dataset_matrix,\n",
    "                                                                                          target_dataset,\n",
    "                                                                                          test_size=test_size,\n",
    "                                                                                          stratify=target_dataset,\n",
    "                                                                                          random_state=random_state\n",
    "                                                                                         )\n",
    "\n",
    "\n",
    "dataset_train = np.concatenate((dataset_train, dataset_train_organics))\n",
    "dataset_test = np.concatenate((dataset_test, dataset_test_organics))\n",
    "target_dataset_train = np.concatenate((target_dataset_train, target_dataset_train_organics))\n",
    "target_dataset_test = np.concatenate((target_dataset_test, target_dataset_test_organics))\n",
    "\n"
   ]
  },
  {
   "cell_type": "code",
   "execution_count": 12,
   "metadata": {},
   "outputs": [
    {
     "name": "stdout",
     "output_type": "stream",
     "text": [
      "Default Decision Tree Statistics:\n",
      "Train Accuracy: 0.9988428158148506\n",
      "Test Accuracy: 0.7302039592081584\n",
      "\n",
      "Classification Report:\n",
      "             precision    recall  f1-score   support\n",
      "\n",
      "          0       0.83      0.81      0.82      5016\n",
      "          1       0.46      0.48      0.47      1652\n",
      "\n",
      "avg / total       0.74      0.73      0.73      6668\n",
      "\n"
     ]
    }
   ],
   "source": [
    "# Training a decision tree model based on deafault settings.\n",
    "decisiontree_model_def = DecisionTreeClassifier(random_state=random_state)\n",
    "decisiontree_model_def.fit(dataset_train, target_dataset_train)\n",
    "\n",
    "# Prints train and test accuracy.\n",
    "print(\"Default Decision Tree Statistics:\")\n",
    "print(\"Train Accuracy:\", decisiontree_model_def.score(dataset_train, target_dataset_train))\n",
    "print(\"Test Accuracy:\", decisiontree_model_def.score(dataset_test, target_dataset_test))\n",
    "\n",
    "# Printing a classification report of the model.\n",
    "print(\"\")\n",
    "print(\"Classification Report:\")\n",
    "target_predict = decisiontree_model_def.predict(dataset_test)\n",
    "print(classification_report(target_dataset_test, target_predict))"
   ]
  },
  {
   "cell_type": "code",
   "execution_count": 14,
   "metadata": {},
   "outputs": [
    {
     "name": "stdout",
     "output_type": "stream",
     "text": [
      "AGE : 0.2995128253939146\n",
      "AFFL : 0.1487398413095103\n",
      "BILL : 0.11690198945418485\n",
      "LTIME : 0.10408067791618938\n",
      "GENDER_F : 0.04378150284667894\n",
      "NGROUP_B : 0.023111458150546105\n",
      "NGROUP_D : 0.019841913586053684\n",
      "NGROUP_F : 0.019415591926024996\n",
      "NGROUP_C : 0.0182869908122781\n",
      "NGROUP_E : 0.016609278806779454\n",
      "TV_REG_London : 0.014253465016721725\n",
      "TV_REG_East : 0.01333916423131015\n",
      "TV_REG_Midlands : 0.013053919179244828\n",
      "NGROUP_A : 0.012114525991489237\n",
      "TV_REG_Wales & West : 0.011586735532480593\n",
      "REGION_South East : 0.010578509637238363\n",
      "CLASS_Silver : 0.010100845946487828\n",
      "REGION_Midlands : 0.010076994762804955\n",
      "TV_REG_N West : 0.009902275450553949\n",
      "TV_REG_Yorkshire : 0.009377094960146257\n",
      "TV_REG_S & S East : 0.008537037704117416\n",
      "REGION_North : 0.007953242455105316\n",
      "CLASS_Tin : 0.007613868403451999\n",
      "CLASS_Gold : 0.007455433650216815\n",
      "TV_REG_N East : 0.007353608969363292\n",
      "REGION_Scottish : 0.007261381969294175\n",
      "TV_REG_C Scotland : 0.0055313207554182125\n",
      "REGION_South West : 0.004609649810061844\n",
      "TV_REG_N Scot : 0.003891838970014718\n",
      "GENDER_U : 0.003850614526600933\n",
      "TV_REG_S West : 0.003090991816591303\n",
      "CLASS_Platinum : 0.0019076670443986046\n",
      "TV_REG_Border : 0.0019043185990749076\n",
      "TV_REG_Ulster : 0.001681742819936681\n",
      "GENDER_M : 0.0015552021834794633\n",
      "NGROUP_U : 0.0011364794122360803\n"
     ]
    }
   ],
   "source": [
    "# Evaluating the feature importance of the default_decision tree\n",
    "import numpy as np\n",
    "\n",
    "# Gets feature importance and relates to the column names of the model\n",
    "feature_importances = decisiontree_model_def.feature_importances_\n",
    "feature_names = dataset.columns\n",
    "\n",
    "# Sorts the features\n",
    "feature_indices = np.flip(np.argsort(feature_importances), axis=0)\n",
    "\n",
    "# Prints the features\n",
    "for i in feature_indices:\n",
    "    print(feature_names[i], ':', feature_importances[i])"
   ]
  },
  {
   "cell_type": "code",
   "execution_count": 4,
   "metadata": {},
   "outputs": [],
   "source": [
    "# Creates a png-file of the default decision tree in order to visualise it.\n",
    "tools.visualize_decision_tree(decisiontree_model_def, feature_names, \"Default Decision Tree - Task 2.png\")"
   ]
  },
  {
   "cell_type": "code",
   "execution_count": 15,
   "metadata": {},
   "outputs": [
    {
     "name": "stdout",
     "output_type": "stream",
     "text": [
      "Decision Tree Statistics:\n",
      "Train Accuracy: 0.8170363227258116\n",
      "Test Accuracy: 0.8179364127174565\n",
      "Accuracy Difference: -0.0009000899916449256\n",
      "\n",
      "Classification Report:\n",
      "             precision    recall  f1-score   support\n",
      "\n",
      "          0       0.83      0.96      0.89      5016\n",
      "          1       0.76      0.39      0.51      1652\n",
      "\n",
      "avg / total       0.81      0.82      0.80      6668\n",
      "\n"
     ]
    }
   ],
   "source": [
    "\n",
    "# Training a decision tree model based on deafault settings.\n",
    "decisiontree_model_optimal = DecisionTreeClassifier(max_depth=5, random_state=random_state)\n",
    "decisiontree_model_optimal.fit(dataset_train, target_dataset_train)\n",
    "\n",
    "train_accuracy = decisiontree_model_optimal.score(dataset_train, target_dataset_train)\n",
    "test_accuracy = decisiontree_model_optimal.score(dataset_test, target_dataset_test)\n",
    "# Prints train and test accuracy.\n",
    "print(\"Decision Tree Statistics:\")\n",
    "print(\"Train Accuracy:\", train_accuracy)\n",
    "print(\"Test Accuracy:\", test_accuracy)\n",
    "print(\"Accuracy Difference:\", train_accuracy - test_accuracy)\n",
    "\n",
    "# Printing a classification report of the model.\n",
    "print(\"\")\n",
    "print(\"Classification Report:\")\n",
    "target_predict = decisiontree_model_optimal.predict(dataset_test)\n",
    "print(classification_report(target_dataset_test, target_predict))\n"
   ]
  },
  {
   "cell_type": "code",
   "execution_count": 16,
   "metadata": {},
   "outputs": [
    {
     "name": "stdout",
     "output_type": "stream",
     "text": [
      "AGE : 0.516924937012977\n",
      "AFFL : 0.3196926630693798\n",
      "GENDER_F : 0.14591439056800373\n",
      "GENDER_U : 0.007909029876713271\n",
      "GENDER_M : 0.003571719792849624\n",
      "BILL : 0.0017823704075580536\n",
      "LTIME : 0.0016058328544125348\n",
      "TV_REG_N East : 0.0015170411147020285\n",
      "NGROUP_U : 0.001082015303403812\n",
      "TV_REG_S West : 0.0\n",
      "TV_REG_C Scotland : 0.0\n",
      "TV_REG_East : 0.0\n",
      "TV_REG_London : 0.0\n",
      "TV_REG_Midlands : 0.0\n",
      "TV_REG_Border : 0.0\n",
      "TV_REG_N Scot : 0.0\n",
      "TV_REG_N West : 0.0\n",
      "TV_REG_S & S East : 0.0\n",
      "CLASS_Tin : 0.0\n",
      "CLASS_Silver : 0.0\n",
      "REGION_Midlands : 0.0\n",
      "CLASS_Platinum : 0.0\n",
      "CLASS_Gold : 0.0\n",
      "REGION_South West : 0.0\n",
      "REGION_South East : 0.0\n",
      "REGION_Scottish : 0.0\n",
      "REGION_North : 0.0\n",
      "NGROUP_F : 0.0\n",
      "TV_REG_Wales & West : 0.0\n",
      "NGROUP_E : 0.0\n",
      "NGROUP_D : 0.0\n",
      "NGROUP_C : 0.0\n",
      "NGROUP_B : 0.0\n",
      "NGROUP_A : 0.0\n",
      "TV_REG_Yorkshire : 0.0\n",
      "TV_REG_Ulster : 0.0\n"
     ]
    }
   ],
   "source": [
    "# Evaluating the feature importance of the default_decision tree\n",
    "import numpy as np\n",
    "\n",
    "# Gets feature importance and relates to the column names of the model\n",
    "feature_importances = decisiontree_model_optimal.feature_importances_\n",
    "feature_names = dataset.columns\n",
    "\n",
    "# Sorts the features\n",
    "feature_indices = np.flip(np.argsort(feature_importances), axis=0)\n",
    "\n",
    "# Prints the features\n",
    "for i in feature_indices:\n",
    "    print(feature_names[i], ':', feature_importances[i])"
   ]
  },
  {
   "cell_type": "code",
   "execution_count": 7,
   "metadata": {},
   "outputs": [],
   "source": [
    "# Creates a png-file of the optimal decision tree in order to visualise it.\n",
    "tools.visualize_decision_tree(decisiontree_model_optimal, feature_names, \"Optimal Decision Tree - Task 2.png\")"
   ]
  },
  {
   "cell_type": "code",
   "execution_count": 18,
   "metadata": {},
   "outputs": [
    {
     "data": {
      "image/png": "[encoded data removed]",
      "text/plain": [
       "<matplotlib.figure.Figure at 0x1a18768160>"
      ]
     },
     "metadata": {},
     "output_type": "display_data"
    },
    {
     "name": "stdout",
     "output_type": "stream",
     "text": [
      "This shows that the optimal node depth of the decision tree is 5.\n",
      "Anything over a max depth of 5 is considered to overfit the model to the train data.\n"
     ]
    }
   ],
   "source": [
    "# Visualising relationship between hyperparameters and model performance\n",
    "import matplotlib.pyplot as plt\n",
    "%matplotlib inline\n",
    "\n",
    "# Sets the color to white.\n",
    "params = {\"ytick.color\" : \"w\",\n",
    "          \"xtick.color\" : \"w\",\n",
    "          \"axes.labelcolor\" : \"w\",\n",
    "          \"axes.edgecolor\" : \"w\"}\n",
    "plt.rcParams.update(params)\n",
    "\n",
    "test_score = []\n",
    "train_score = []\n",
    "\n",
    "# check the model performance for max depth from 2-20\n",
    "for max_depth in range(2, 21):\n",
    "    model = DecisionTreeClassifier(max_depth=max_depth, random_state=random_state)\n",
    "    model.fit(dataset_train, target_dataset_train)\n",
    "    \n",
    "    test_score.append(model.score(dataset_test, target_dataset_test))\n",
    "    train_score.append(model.score(dataset_train, target_dataset_train))\n",
    "\n",
    "# plot max depth hyperparameter values vs training and test accuracy score\n",
    "plt.plot(range(2, 21), train_score, 'b', range(2,21), test_score, 'r')\n",
    "plt.xlabel('max_depth\\nBlue = training acc. Red = test acc.')\n",
    "plt.ylabel('accuracy')\n",
    "plt.show()\n",
    "\n",
    "print(\"This shows that the optimal node depth of the decision tree is 5.\")\n",
    "print(\"Anything over a max depth of 5 is considered to overfit the model to the train data.\")"
   ]
  },
  {
   "cell_type": "markdown",
   "metadata": {},
   "source": [
    "<h1>Using CVSearch</h1>"
   ]
  },
  {
   "cell_type": "code",
   "execution_count": 21,
   "metadata": {},
   "outputs": [
    {
     "name": "stdout",
     "output_type": "stream",
     "text": [
      "Train accuracy: 0.8152362584378013\n",
      "Test accuracy: 0.8168866226754649\n",
      "             precision    recall  f1-score   support\n",
      "\n",
      "          0       0.84      0.94      0.89      5016\n",
      "          1       0.71      0.44      0.54      1652\n",
      "\n",
      "avg / total       0.81      0.82      0.80      6668\n",
      "\n",
      "{'criterion': 'gini', 'max_depth': 4, 'min_samples_leaf': 10}\n"
     ]
    }
   ],
   "source": [
    "from sklearn.model_selection import GridSearchCV\n",
    "\n",
    "# grid search CV\n",
    "params = {'criterion': ['gini', 'entropy'],\n",
    "          'max_depth': range(2, 7),\n",
    "          'min_samples_leaf': range(10, 50, 10)}\n",
    "\n",
    "cross_validation_model = GridSearchCV(param_grid=params,\n",
    "                                      estimator=DecisionTreeClassifier(random_state=random_state),\n",
    "                                      cv=10)\n",
    "cross_validation_model.fit(dataset_train, target_dataset_train)\n",
    "\n",
    "print(\"Train accuracy:\", cross_validation_model.score(dataset_train, target_dataset_train))\n",
    "print(\"Test accuracy:\", cross_validation_model.score(dataset_test, target_dataset_test))\n",
    "\n",
    "# test the best model\n",
    "target_prediction = cross_validation_model.predict(dataset_test)\n",
    "print(classification_report(target_dataset_test, target_prediction))\n",
    "\n",
    "# print parameters of the best model\n",
    "print(cross_validation_model.best_params_)\n"
   ]
  },
  {
   "cell_type": "code",
   "execution_count": 20,
   "metadata": {},
   "outputs": [
    {
     "name": "stdout",
     "output_type": "stream",
     "text": [
      "Decision Tree Statistics:\n",
      "Train Accuracy: 0.8152362584378013\n",
      "Test Accuracy: 0.8168866226754649\n",
      "Accuracy Difference: -0.0016503642376635153\n",
      "             precision    recall  f1-score   support\n",
      "\n",
      "          0       0.84      0.94      0.89      5016\n",
      "          1       0.71      0.44      0.54      1652\n",
      "\n",
      "avg / total       0.81      0.82      0.80      6668\n",
      "\n",
      "{'criterion': 'gini', 'max_depth': 4, 'min_samples_leaf': 1}\n"
     ]
    }
   ],
   "source": [
    "from sklearn.model_selection import GridSearchCV\n",
    "\n",
    "# grid search CV\n",
    "params = {'criterion': ['gini', 'entropy'],\n",
    "          'max_depth': range(2, 5),\n",
    "          'min_samples_leaf': range(1, 2)}\n",
    "\n",
    "cross_validation_optimal_model = GridSearchCV(param_grid=params,\n",
    "                                      estimator=DecisionTreeClassifier(random_state=random_state),\n",
    "                                      cv=10)\n",
    "cross_validation_optimal_model.fit(dataset_train, target_dataset_train)\n",
    "\n",
    "train_accuracy_optimal_cv = cross_validation_optimal_model.score(dataset_train, target_dataset_train)\n",
    "test_accuracy_optimal_cv = cross_validation_optimal_model.score(dataset_test, target_dataset_test)\n",
    "# Prints train and test accuracy.\n",
    "print(\"Decision Tree Statistics:\")\n",
    "print(\"Train Accuracy:\", train_accuracy_optimal_cv)\n",
    "print(\"Test Accuracy:\", test_accuracy_optimal_cv)\n",
    "print(\"Accuracy Difference:\", train_accuracy_optimal_cv - test_accuracy_optimal_cv)\n",
    "\n",
    "\n",
    "# test the best model\n",
    "target_prediction = cross_validation_optimal_model.predict(dataset_test)\n",
    "print(classification_report(target_dataset_test, target_prediction))\n",
    "\n",
    "# print parameters of the best model\n",
    "print(cross_validation_optimal_model.best_params_)"
   ]
  },
  {
   "cell_type": "code",
   "execution_count": 22,
   "metadata": {},
   "outputs": [
    {
     "name": "stdout",
     "output_type": "stream",
     "text": [
      "AGE : 0.5177817946968515\n",
      "AFFL : 0.32295547554984944\n",
      "GENDER_F : 0.15336051893436994\n",
      "GENDER_U : 0.005902210818929138\n",
      "TV_REG_London : 0.0\n",
      "TV_REG_S & S East : 0.0\n",
      "TV_REG_N West : 0.0\n",
      "TV_REG_N Scot : 0.0\n",
      "TV_REG_N East : 0.0\n",
      "TV_REG_Midlands : 0.0\n",
      "TV_REG_C Scotland : 0.0\n",
      "TV_REG_East : 0.0\n",
      "CLASS_Silver : 0.0\n",
      "TV_REG_Border : 0.0\n",
      "GENDER_M : 0.0\n",
      "LTIME : 0.0\n",
      "BILL : 0.0\n",
      "TV_REG_S West : 0.0\n",
      "CLASS_Tin : 0.0\n",
      "TV_REG_Wales & West : 0.0\n",
      "REGION_Midlands : 0.0\n",
      "CLASS_Platinum : 0.0\n",
      "CLASS_Gold : 0.0\n",
      "REGION_South West : 0.0\n",
      "REGION_South East : 0.0\n",
      "REGION_Scottish : 0.0\n",
      "REGION_North : 0.0\n",
      "NGROUP_U : 0.0\n",
      "TV_REG_Yorkshire : 0.0\n",
      "NGROUP_F : 0.0\n",
      "NGROUP_E : 0.0\n",
      "NGROUP_D : 0.0\n",
      "NGROUP_C : 0.0\n",
      "NGROUP_B : 0.0\n",
      "NGROUP_A : 0.0\n",
      "TV_REG_Ulster : 0.0\n"
     ]
    }
   ],
   "source": [
    "# Gets feature importance and relates to the column names of the model\n",
    "feature_importances_cv = cross_validation_optimal_model.best_estimator_.feature_importances_\n",
    "feature_names_cv = dataset.columns\n",
    "\n",
    "# Sorts the features\n",
    "feature_indices_cv = np.flip(np.argsort(feature_importances_cv), axis=0)\n",
    "\n",
    "# Prints the features\n",
    "for i in feature_indices_cv:\n",
    "    print(feature_names_cv[i], ':', feature_importances_cv[i])"
   ]
  },
  {
   "cell_type": "code",
   "execution_count": 12,
   "metadata": {},
   "outputs": [],
   "source": [
    "# Creates a png-file of the optimal decision tree in order to visualise it.\n",
    "tools.visualize_decision_tree(cross_validation_optimal_model.best_estimator_, feature_names, \"Optimal Decision Tree by Cross-validation - Task 2.png\")"
   ]
  }
 ],
 "metadata": {
  "kernelspec": {
   "display_name": "Python 3",
   "language": "python",
   "name": "python3"
  },
  "language_info": {
   "codemirror_mode": {
    "name": "ipython",
    "version": 3
   },
   "file_extension": ".py",
   "mimetype": "text/x-python",
   "name": "python",
   "nbconvert_exporter": "python",
   "pygments_lexer": "ipython3",
   "version": "3.6.4"
  }
 },
 "nbformat": 4,
 "nbformat_minor": 2
}
