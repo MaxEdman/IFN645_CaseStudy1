{
 "cells": [
  {
   "cell_type": "code",
   "execution_count": 1,
   "metadata": {
    "collapsed": true
   },
   "outputs": [],
   "source": [
    "import pandas as pd\n",
    "import numpy as np\n",
    "import casestudy_tools as tools\n",
    "from sklearn.model_selection import train_test_split\n",
    "from sklearn.metrics import classification_report, accuracy_score\n",
    "from sklearn.model_selection import GridSearchCV\n",
    "from casestudy_tools import preprocess\n",
    "from sklearn.preprocessing import StandardScaler"
   ]
  },
  {
   "cell_type": "code",
   "execution_count": 2,
   "metadata": {
    "collapsed": true
   },
   "outputs": [],
   "source": [
    "# preprocessing step\n",
    "df = tools.preprocess()\n",
    "\n",
    "# random state\n",
    "rs = 10"
   ]
  },
  {
   "cell_type": "code",
   "execution_count": 3,
   "metadata": {
    "collapsed": true
   },
   "outputs": [],
   "source": [
    "# train test split\n",
    "y = df['ORGYN']\n",
    "X = df.drop(['ORGYN'], axis=1)\n",
    "X_mat = X.as_matrix()\n",
    "X_train, X_test, y_train, y_test = train_test_split(X_mat, y, test_size=0.3, stratify=y, random_state=rs)\n",
    "                                    "
   ]
  },
  {
   "cell_type": "code",
   "execution_count": 4,
   "metadata": {
    "collapsed": true
   },
   "outputs": [],
   "source": [
    "from sklearn.preprocessing import StandardScaler\n",
    "# initialise a standard scaler object\n",
    "scaler = StandardScaler()\n",
    "X_train = scaler.fit_transform(X_train, y_train)\n",
    "X_test = scaler.transform(X_test)"
   ]
  },
  {
   "cell_type": "code",
   "execution_count": 5,
   "metadata": {},
   "outputs": [
    {
     "data": {
      "text/plain": [
       "LogisticRegression(C=1.0, class_weight=None, dual=False, fit_intercept=True,\n",
       "          intercept_scaling=1, max_iter=100, multi_class='ovr', n_jobs=1,\n",
       "          penalty='l2', random_state=10, solver='liblinear', tol=0.0001,\n",
       "          verbose=0, warm_start=False)"
      ]
     },
     "execution_count": 5,
     "metadata": {},
     "output_type": "execute_result"
    }
   ],
   "source": [
    "#Q2. build default regression model - Logistic regression\n",
    "from sklearn.linear_model import LogisticRegression\n",
    "model = LogisticRegression(random_state=rs)\n",
    "\n",
    "# fit it to training data\n",
    "model.fit(X_train, y_train)"
   ]
  },
  {
   "cell_type": "code",
   "execution_count": 6,
   "metadata": {},
   "outputs": [
    {
     "name": "stdout",
     "output_type": "stream",
     "text": [
      "Train accuracy: 0.810041141682\n",
      "Test accuracy: 0.816409179541\n",
      "             precision    recall  f1-score   support\n",
      "\n",
      "          0       0.83      0.95      0.89      5015\n",
      "          1       0.73      0.41      0.53      1652\n",
      "\n",
      "avg / total       0.81      0.82      0.80      6667\n",
      "\n"
     ]
    }
   ],
   "source": [
    "# training and test accuracy\n",
    "print(\"Train accuracy:\", model.score(X_train, y_train))\n",
    "print(\"Test accuracy:\", model.score(X_test, y_test))\n",
    "\n",
    "# classification report on test data\n",
    "y_pred = model.predict(X_test)\n",
    "print(classification_report(y_test, y_pred))"
   ]
  },
  {
   "cell_type": "code",
   "execution_count": 7,
   "metadata": {},
   "outputs": [
    {
     "name": "stdout",
     "output_type": "stream",
     "text": [
      "[[-0.70609843  0.01244589  0.81174692  0.02140138  0.38484826 -0.08521423\n",
      "  -0.39119047 -0.00276403 -0.00340256  0.00816159  0.0056556   0.00411815\n",
      "   0.00521994 -0.01580546 -0.00239069 -0.00089052  0.01434096 -0.02652518\n",
      "   0.02107318 -0.02704544 -0.07418872 -0.07856464 -0.07435022 -0.07893452\n",
      "  -0.06954458 -0.05825127 -0.00952424  0.01377611 -0.01625367 -0.01176906\n",
      "   0.00462889  0.01434096  0.02125866 -0.00418639 -0.01314437 -0.0052902 ]]\n"
     ]
    }
   ],
   "source": [
    "print(model.coef_)"
   ]
  },
  {
   "cell_type": "code",
   "execution_count": 8,
   "metadata": {},
   "outputs": [
    {
     "name": "stdout",
     "output_type": "stream",
     "text": [
      "Index(['AGE', 'BILL', 'AFFL', 'LTIME', 'GENDER_F', 'GENDER_M', 'GENDER_U',\n",
      "       'TV_REG_Border', 'TV_REG_C Scotland', 'TV_REG_East', 'TV_REG_London',\n",
      "       'TV_REG_Midlands', 'TV_REG_N East', 'TV_REG_N Scot', 'TV_REG_N West',\n",
      "       'TV_REG_S & S East', 'TV_REG_S West', 'TV_REG_Ulster',\n",
      "       'TV_REG_Wales & West', 'TV_REG_Yorkshire', 'NGROUP_A', 'NGROUP_B',\n",
      "       'NGROUP_C', 'NGROUP_D', 'NGROUP_E', 'NGROUP_F', 'NGROUP_U',\n",
      "       'REGION_Midlands', 'REGION_North', 'REGION_Scottish',\n",
      "       'REGION_South East', 'REGION_South West', 'CLASS_Gold',\n",
      "       'CLASS_Platinum', 'CLASS_Silver', 'CLASS_Tin'],\n",
      "      dtype='object')\n",
      "AGE : -0.706098432479\n",
      "BILL : 0.0124458908858\n",
      "AFFL : 0.81174692246\n",
      "LTIME : 0.0214013847361\n",
      "GENDER_F : 0.384848257983\n",
      "GENDER_M : -0.0852142302794\n",
      "GENDER_U : -0.391190468829\n",
      "TV_REG_Border : -0.00276402781617\n",
      "TV_REG_C Scotland : -0.00340255881516\n",
      "TV_REG_East : 0.00816158689046\n",
      "TV_REG_London : 0.00565559705755\n",
      "TV_REG_Midlands : 0.00411815262058\n",
      "TV_REG_N East : 0.00521994096796\n",
      "TV_REG_N Scot : -0.0158054566354\n",
      "TV_REG_N West : -0.00239069490358\n",
      "TV_REG_S & S East : -0.000890522397294\n",
      "TV_REG_S West : 0.0143409629287\n",
      "TV_REG_Ulster : -0.026525183319\n",
      "TV_REG_Wales & West : 0.0210731815236\n",
      "TV_REG_Yorkshire : -0.027045438528\n"
     ]
    }
   ],
   "source": [
    "feature_names = X.columns\n",
    "coef = model.coef_[0]\n",
    "print(feature_names)\n",
    "\n",
    "# limit to 20 features, you can comment the following line to print out everything\n",
    "coef = coef[:20]\n",
    "\n",
    "for i in range(len(coef)):\n",
    "    print(feature_names[i], ':', coef[i])"
   ]
  },
  {
   "cell_type": "code",
   "execution_count": 9,
   "metadata": {},
   "outputs": [
    {
     "name": "stdout",
     "output_type": "stream",
     "text": [
      "AFFL : 0.81174692246\n",
      "AGE : -0.706098432479\n",
      "GENDER_U : -0.391190468829\n",
      "GENDER_F : 0.384848257983\n",
      "GENDER_M : -0.0852142302794\n",
      "NGROUP_D : -0.0789345161934\n",
      "NGROUP_B : -0.0785646411171\n",
      "NGROUP_C : -0.0743502162717\n",
      "NGROUP_A : -0.0741887160156\n",
      "NGROUP_E : -0.0695445752032\n",
      "NGROUP_F : -0.0582512723578\n",
      "TV_REG_Yorkshire : -0.027045438528\n",
      "TV_REG_Ulster : -0.026525183319\n",
      "LTIME : 0.0214013847361\n",
      "CLASS_Gold : 0.0212586617679\n",
      "TV_REG_Wales & West : 0.0210731815236\n",
      "REGION_North : -0.0162536677364\n",
      "TV_REG_N Scot : -0.0158054566354\n",
      "REGION_South West : 0.0143409629287\n",
      "TV_REG_S West : 0.0143409629287\n"
     ]
    }
   ],
   "source": [
    "# grab feature importances from the model and feature name from the original X\n",
    "coef = model.coef_[0]\n",
    "feature_names = X.columns\n",
    "\n",
    "# sort them out in descending order\n",
    "indices = np.argsort(np.absolute(coef))\n",
    "indices = np.flip(indices, axis=0)\n",
    "\n",
    "# limit to 20 features, you can leave this out to print out everything\n",
    "indices = indices[:20]\n",
    "\n",
    "for i in indices:\n",
    "    print(feature_names[i], ':', coef[i])"
   ]
  },
  {
   "cell_type": "code",
   "execution_count": 10,
   "metadata": {},
   "outputs": [
    {
     "name": "stdout",
     "output_type": "stream",
     "text": [
      "Train accuracy: 0.810233993314\n",
      "Test accuracy: 0.816409179541\n",
      "             precision    recall  f1-score   support\n",
      "\n",
      "          0       0.83      0.95      0.89      5015\n",
      "          1       0.73      0.41      0.52      1652\n",
      "\n",
      "avg / total       0.81      0.82      0.80      6667\n",
      "\n",
      "{'C': 0.01}\n"
     ]
    }
   ],
   "source": [
    "#Optimal hyperparameters with GridSearchCV model\n",
    "# grid search CV\n",
    "params = {'C': [pow(10, x) for x in range(-6, 4)]}\n",
    "\n",
    "# use all cores to tune logistic regression with C parameter\n",
    "cv = GridSearchCV(param_grid=params, estimator=LogisticRegression(random_state=rs), cv=10, n_jobs=-1)\n",
    "cv.fit(X_train, y_train)\n",
    "\n",
    "# test the best model\n",
    "print(\"Train accuracy:\", cv.score(X_train, y_train))\n",
    "print(\"Test accuracy:\", cv.score(X_test, y_test))\n",
    "\n",
    "y_pred = cv.predict(X_test)\n",
    "print(classification_report(y_test, y_pred))\n",
    "\n",
    "# print parameters of the best model\n",
    "print(cv.best_params_)"
   ]
  },
  {
   "cell_type": "code",
   "execution_count": 11,
   "metadata": {},
   "outputs": [
    {
     "name": "stdout",
     "output_type": "stream",
     "text": [
      "AFFL : 0.750648711553\n",
      "AGE : -0.644521162381\n",
      "GENDER_F : 0.354839473058\n",
      "GENDER_U : -0.349692560665\n",
      "GENDER_M : -0.0884200512931\n",
      "NGROUP_A : -0.0395130305454\n",
      "NGROUP_B : -0.0319748799284\n",
      "NGROUP_D : -0.0281912017175\n",
      "NGROUP_E : -0.0276841429953\n",
      "TV_REG_Yorkshire : -0.0261290308281\n",
      "NGROUP_C : -0.0238556304987\n",
      "TV_REG_Wales & West : 0.0181431509329\n",
      "REGION_North : -0.0169320205085\n",
      "TV_REG_N Scot : -0.0137714133673\n",
      "TV_REG_Ulster : -0.013537248815\n",
      "CLASS_Gold : 0.0127959367417\n",
      "REGION_Midlands : 0.0125182662778\n",
      "TV_REG_S West : 0.012251783278\n",
      "REGION_South West : 0.012251783278\n",
      "LTIME : 0.0119027935458\n"
     ]
    }
   ],
   "source": [
    "# most important features\n",
    "import numpy as np\n",
    "\n",
    "coef = cv.best_estimator_.coef_[0]\n",
    "feature_names = X.columns\n",
    "\n",
    "# sort them out in descending order\n",
    "indices = np.argsort(np.absolute(coef))\n",
    "indices = np.flip(indices, axis=0)\n",
    "\n",
    "# limit to 20 features, you can leave this out to print out everything\n",
    "indices = indices[:20]\n",
    "\n",
    "for i in indices:\n",
    "    print(feature_names[i], ':', coef[i])\n",
    "    "
   ]
  },
  {
   "cell_type": "code",
   "execution_count": 12,
   "metadata": {},
   "outputs": [
    {
     "data": {
      "image/png": "[encoded data removed]",
      "text/plain": [
       "<matplotlib.figure.Figure at 0x1bfc850b668>"
      ]
     },
     "metadata": {},
     "output_type": "display_data"
    }
   ],
   "source": [
    "#Q3 Feature transformation\n",
    "import matplotlib.pyplot as plt\n",
    "import seaborn as sns\n",
    "# get columns from X\n",
    "cols = X.columns\n",
    "\n",
    "# filter out columns with '_' in their name, as '_' indicate one-hot encoded binary variables\n",
    "cols = [col for col in cols if '_' not in col]\n",
    "\n",
    "\n",
    "\n",
    "# visualise the columns\n",
    "fig, ax = plt.subplots(2,4, figsize=(10,10), sharex=False)\n",
    "\n",
    "# draw distplots on each inspected column in X\n",
    "for i, col in enumerate(cols):\n",
    "    sns.distplot(X[col].dropna(), hist=False, ax=ax[int(i/4)][i%4])\n",
    "    \n",
    "plt.show()"
   ]
  },
  {
   "cell_type": "code",
   "execution_count": 13,
   "metadata": {},
   "outputs": [
    {
     "data": {
      "image/png": "[encoded data removed]",
      "text/plain": [
       "<matplotlib.figure.Figure at 0x1bfcc23f048>"
      ]
     },
     "metadata": {},
     "output_type": "display_data"
    }
   ],
   "source": [
    "# list columns to be transformed\n",
    "columns_to_transform = ['AGE', 'BILL', 'AFFL', 'LTIME']\n",
    "\n",
    "# copy the dataframe\n",
    "X_log = X.copy()\n",
    "df_log = df.copy()\n",
    "\n",
    "# transform the columns with np.log\n",
    "for col in columns_to_transform:\n",
    "    X_log[col] = X_log[col].apply(lambda x: x+1)\n",
    "    X_log[col] = X_log[col].apply(np.log)\n",
    "\n",
    "# plot them again to show the distribution\n",
    "fig, ax = plt.subplots(2,4, figsize=(10,10), sharex=False)\n",
    "for i, col in enumerate(columns_to_transform):\n",
    "    sns.distplot(X_log[col].dropna(), hist=False, ax=ax[int(i/4)][i%4])\n",
    "    \n",
    "plt.show()\n",
    "\n",
    "\n"
   ]
  },
  {
   "cell_type": "code",
   "execution_count": 14,
   "metadata": {
    "collapsed": true
   },
   "outputs": [],
   "source": [
    "#Create X, y and train test data partitions\n",
    "# create X, y and train test data partitions\n",
    "y_log = df_log['ORGYN']\n",
    "X_log = df_log.drop(['ORGYN'], axis=1)\n",
    "X_mat_log = X_log.as_matrix()\n",
    "X_train_log, X_test_log, y_train_log, y_test_log = train_test_split(X_mat_log, y_log, test_size=0.3, stratify=y_log, \n",
    "                                                                    random_state=rs)\n",
    "\n",
    "# standardise them again\n",
    "scaler_log = StandardScaler()\n",
    "X_train_log = scaler_log.fit_transform(X_train_log, y_train_log)\n",
    "X_test_log = scaler_log.transform(X_test_log)"
   ]
  },
  {
   "cell_type": "code",
   "execution_count": 15,
   "metadata": {},
   "outputs": [
    {
     "name": "stdout",
     "output_type": "stream",
     "text": [
      "Train accuracy: 0.810233993314\n",
      "Test accuracy: 0.816409179541\n",
      "             precision    recall  f1-score   support\n",
      "\n",
      "          0       0.83      0.95      0.89      5015\n",
      "          1       0.73      0.41      0.52      1652\n",
      "\n",
      "avg / total       0.81      0.82      0.80      6667\n",
      "\n",
      "{'C': 0.01}\n"
     ]
    }
   ],
   "source": [
    "#grid search CV\n",
    "params = {'C': [pow(10, x) for x in range(-6, 4)]}\n",
    "\n",
    "cv = GridSearchCV(param_grid=params, estimator=LogisticRegression(random_state=rs), cv=10, n_jobs=-1)\n",
    "cv.fit(X_train_log, y_train_log)\n",
    "\n",
    "# test the best model\n",
    "print(\"Train accuracy:\", cv.score(X_train_log, y_train_log))\n",
    "print(\"Test accuracy:\", cv.score(X_test_log, y_test_log))\n",
    "\n",
    "y_pred = cv.predict(X_test_log)\n",
    "print(classification_report(y_test_log, y_pred))\n",
    "\n",
    "# print parameters of the best model\n",
    "print(cv.best_params_)"
   ]
  },
  {
   "cell_type": "code",
   "execution_count": 16,
   "metadata": {},
   "outputs": [
    {
     "name": "stdout",
     "output_type": "stream",
     "text": [
      "Original feature set 36\n",
      "Number of features after elimination 6\n",
      "[ 0  2  4  5  6 28]\n"
     ]
    }
   ],
   "source": [
    "#Q3 Feature Transformation\n",
    "from sklearn.feature_selection import RFECV\n",
    "rfe = RFECV(estimator = LogisticRegression(random_state=rs), cv=10)\n",
    "rfe.fit(X_train, y_train) # run the RFECV\n",
    "\n",
    "\n",
    "# comparing how many variables before and after\n",
    "print(\"Original feature set\", X_train.shape[1])\n",
    "print(\"Number of features after elimination\", rfe.n_features_)\n",
    "print(rfe.get_support(indices=True)) \n",
    "#print(feature_names[0,2,4,5,6,28])\n",
    "#print(feature_names(rfe.get_support(indices=True)))"
   ]
  },
  {
   "cell_type": "code",
   "execution_count": 17,
   "metadata": {},
   "outputs": [],
   "source": [
    "#test the performance\n",
    "X_train_sel = rfe.transform(X_train)\n",
    "X_test_sel = rfe.transform(X_test)"
   ]
  },
  {
   "cell_type": "code",
   "execution_count": 18,
   "metadata": {},
   "outputs": [
    {
     "name": "stdout",
     "output_type": "stream",
     "text": [
      "Train accuracy: 0.810491128825\n",
      "Test accuracy: 0.810709464527\n",
      "             precision    recall  f1-score   support\n",
      "\n",
      "          0       0.84      0.93      0.88      5015\n",
      "          1       0.67      0.46      0.55      1652\n",
      "\n",
      "avg / total       0.80      0.81      0.80      6667\n",
      "\n",
      "{'C': 0.0001}\n"
     ]
    }
   ],
   "source": [
    "# grid search CV\n",
    "params = {'C': [pow(10, x) for x in range(-6, 4)]}\n",
    "\n",
    "cv = GridSearchCV(param_grid=params, estimator=LogisticRegression(random_state=rs), cv=10, n_jobs=-1)\n",
    "cv.fit(X_train_sel, y_train)\n",
    "\n",
    "# test the best model\n",
    "print(\"Train accuracy:\", cv.score(X_train_sel, y_train))\n",
    "print(\"Test accuracy:\", cv.score(X_test_sel, y_test))\n",
    "\n",
    "y_pred = cv.predict(X_test_sel)\n",
    "print(classification_report(y_test, y_pred))\n",
    "\n",
    "# print parameters of the best model\n",
    "print(cv.best_params_)\n"
   ]
  },
  {
   "cell_type": "code",
   "execution_count": 29,
   "metadata": {},
   "outputs": [
    {
     "name": "stdout",
     "output_type": "stream",
     "text": [
      "{'criterion': 'entropy', 'max_depth': 4, 'min_samples_leaf': 1}\n"
     ]
    }
   ],
   "source": [
    "from sklearn.tree import DecisionTreeClassifier\n",
    "from casestudy_tools import get_decision_tree\n",
    "#from casestudy_tools import analyse_feature_importance\n",
    "\n",
    "params = {'criterion': ['gini', 'entropy'],\n",
    "          'max_depth': range(2, 5),\n",
    "          'min_samples_leaf': range(1,2)}\n",
    "\n",
    "cv = GridSearchCV(param_grid=params, estimator=DecisionTreeClassifier(random_state=rs), cv=10)\n",
    "cv.fit(X_train_log, y_train_log)\n",
    "\n",
    "print(cv.best_params_)"
   ]
  },
  {
   "cell_type": "code",
   "execution_count": 31,
   "metadata": {},
   "outputs": [
    {
     "name": "stdout",
     "output_type": "stream",
     "text": [
      "AGE : 0.494859450146\n",
      "AFFL : 0.321214414539\n",
      "GENDER_F : 0.173586202149\n",
      "GENDER_U : 0.010339933166\n",
      "TV_REG_London : 0.0\n",
      "TV_REG_S & S East : 0.0\n",
      "TV_REG_N West : 0.0\n",
      "TV_REG_N Scot : 0.0\n",
      "TV_REG_N East : 0.0\n",
      "TV_REG_Midlands : 0.0\n",
      "TV_REG_C Scotland : 0.0\n",
      "TV_REG_East : 0.0\n",
      "CLASS_Silver : 0.0\n",
      "TV_REG_Border : 0.0\n",
      "GENDER_M : 0.0\n",
      "LTIME : 0.0\n",
      "BILL : 0.0\n",
      "TV_REG_S West : 0.0\n",
      "CLASS_Tin : 0.0\n",
      "TV_REG_Wales & West : 0.0\n",
      "REGION_Midlands : 0.0\n",
      "CLASS_Platinum : 0.0\n",
      "CLASS_Gold : 0.0\n",
      "REGION_South West : 0.0\n",
      "REGION_South East : 0.0\n",
      "REGION_Scottish : 0.0\n",
      "REGION_North : 0.0\n",
      "NGROUP_U : 0.0\n",
      "TV_REG_Yorkshire : 0.0\n",
      "NGROUP_F : 0.0\n",
      "NGROUP_E : 0.0\n",
      "NGROUP_D : 0.0\n",
      "NGROUP_C : 0.0\n",
      "NGROUP_B : 0.0\n",
      "NGROUP_A : 0.0\n",
      "TV_REG_Ulster : 0.0\n"
     ]
    }
   ],
   "source": [
    "# Gets feature importance and relates to the column names of the model\n",
    "feature_importances = cv.best_estimator_.feature_importances_\n",
    "feature_names = X_log.columns\n",
    "\n",
    "# Sorts the features\n",
    "feature_indices = np.flip(np.argsort(feature_importances), axis=0)\n",
    "\n",
    "# Prints the features\n",
    "for i in feature_indices:\n",
    "    print(feature_names[i], ':', feature_importances[i])"
   ]
  },
  {
   "cell_type": "code",
   "execution_count": 20,
   "metadata": {},
   "outputs": [
    {
     "name": "stdout",
     "output_type": "stream",
     "text": [
      "(15556, 3)\n"
     ]
    }
   ],
   "source": [
    "\n",
    "from sklearn.feature_selection import SelectFromModel\n",
    "\n",
    "# use the trained best decision tree from GridSearchCV to select features\n",
    "# supply the prefit=True parameter to stop SelectFromModel to re-train the model\n",
    "selectmodel = SelectFromModel(cv.best_estimator_, prefit=True)\n",
    "X_train_sel_model = selectmodel.transform(X_train_log)\n",
    "X_test_sel_model = selectmodel.transform(X_test_log)\n",
    "\n",
    "print(X_train_sel_model.shape)\n"
   ]
  },
  {
   "cell_type": "code",
   "execution_count": 21,
   "metadata": {},
   "outputs": [
    {
     "name": "stdout",
     "output_type": "stream",
     "text": [
      "Train accuracy: 0.811519670867\n",
      "Test accuracy: 0.816709164542\n",
      "             precision    recall  f1-score   support\n",
      "\n",
      "          0       0.84      0.94      0.89      5015\n",
      "          1       0.71      0.44      0.54      1652\n",
      "\n",
      "avg / total       0.80      0.82      0.80      6667\n",
      "\n",
      "{'C': 1e-06}\n"
     ]
    }
   ],
   "source": [
    "# Grid search cv for RFE SELECTION MODEL (BEST MODEL)\n",
    "params = {'C': [pow(10, x) for x in range(-6, 4)]}\n",
    "\n",
    "cv = GridSearchCV(param_grid=params, estimator=LogisticRegression(random_state=rs), cv=10, n_jobs=-1)\n",
    "cv.fit(X_train_sel_model, y_train_log)\n",
    "\n",
    "print(\"Train accuracy:\", cv.score(X_train_sel_model, y_train_log))\n",
    "print(\"Test accuracy:\", cv.score(X_test_sel_model, y_test_log))\n",
    "\n",
    "# test the best model\n",
    "y_pred = cv.predict(X_test_sel_model)\n",
    "print(classification_report(y_test_log, y_pred))\n",
    "\n",
    "# print parameters of the best model\n",
    "print(cv.best_params_)"
   ]
  },
  {
   "cell_type": "code",
   "execution_count": 22,
   "metadata": {},
   "outputs": [
    {
     "name": "stdout",
     "output_type": "stream",
     "text": [
      "BILL : 0.00231891801074\n",
      "AGE : -0.00201006879851\n",
      "AFFL : 0.00170023588173\n"
     ]
    }
   ],
   "source": [
    "\n",
    "#top 5 variables\n",
    "# Evaluating the feature importance of the default_decision tree\n",
    "import numpy as np\n",
    "\n",
    "coef = cv.best_estimator_.coef_[0]\n",
    "feature_names = X.columns\n",
    "\n",
    "# sort them out in descending order\n",
    "indices = np.argsort(np.absolute(coef))\n",
    "indices = np.flip(indices, axis=0)\n",
    "\n",
    "# limit to 20 features, you can leave this out to print out everything\n",
    "indices = indices[:20]\n",
    "\n",
    "for i in indices:\n",
    "    print(feature_names[i], ':', coef[i])"
   ]
  },
  {
   "cell_type": "code",
   "execution_count": 26,
   "metadata": {},
   "outputs": [
    {
     "data": {
      "text/plain": [
       "array([-0.00201007,  0.00231892,  0.00170024])"
      ]
     },
     "execution_count": 26,
     "metadata": {},
     "output_type": "execute_result"
    }
   ],
   "source": [
    "coef"
   ]
  },
  {
   "cell_type": "code",
   "execution_count": null,
   "metadata": {
    "collapsed": true
   },
   "outputs": [],
   "source": []
  }
 ],
 "metadata": {
  "kernelspec": {
   "display_name": "Python 3",
   "language": "python",
   "name": "python3"
  },
  "language_info": {
   "codemirror_mode": {
    "name": "ipython",
    "version": 3
   },
   "file_extension": ".py",
   "mimetype": "text/x-python",
   "name": "python",
   "nbconvert_exporter": "python",
   "pygments_lexer": "ipython3",
   "version": "3.6.2"
  }
 },
 "nbformat": 4,
 "nbformat_minor": 2
}
