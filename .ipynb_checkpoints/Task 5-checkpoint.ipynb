{
 "cells": [
  {
   "cell_type": "code",
   "execution_count": 49,
   "metadata": {},
   "outputs": [],
   "source": [
    "# Import the ensamble model VotingClassifier\n",
    "from sklearn.ensemble import VotingClassifier\n",
    "import casestudy_tools as tools\n",
    "\n",
    "dt_model = tools.get_decision_tree()\n",
    "\n"
   ]
  },
  {
   "cell_type": "code",
   "execution_count": 2,
   "metadata": {},
   "outputs": [
    {
     "name": "stdout",
     "output_type": "stream",
     "text": [
      "Train accuracy: 0.814412445358704\n",
      "Test accuracy: 0.8189590520473976\n",
      "             precision    recall  f1-score   support\n",
      "\n",
      "          0       0.84      0.94      0.89      5015\n",
      "          1       0.72      0.44      0.55      1652\n",
      "\n",
      "avg / total       0.81      0.82      0.80      6667\n",
      "\n"
     ]
    }
   ],
   "source": [
    "nn_model = tools.get_neural_networks_model()"
   ]
  },
  {
   "cell_type": "code",
   "execution_count": null,
   "metadata": {},
   "outputs": [],
   "source": [
    "#log_reg_model = tools.get_logistic_regression_model()"
   ]
  },
  {
   "cell_type": "code",
   "execution_count": 18,
   "metadata": {},
   "outputs": [],
   "source": [
    "# initialise the classifier with 3 different estimators\n",
    "ensemble_voting_model = VotingClassifier(estimators=[('dt', dt_model), ('nn', nn_model)], voting='soft')\n",
    "#voting = VotingClassifier(estimators=[('dt', dt_model), ('lr', log_reg_model), ('nn', nn_model)], voting='soft')"
   ]
  },
  {
   "cell_type": "code",
   "execution_count": 31,
   "metadata": {},
   "outputs": [],
   "source": [
    "# Divides a new set of training and testdata from the given dataset.\n",
    "df = tools.preprocess()\n",
    "\n",
    "# Building a decision tree using the default settings.\n",
    "from sklearn.model_selection import train_test_split\n",
    "from sklearn.preprocessing import StandardScaler\n",
    "\n",
    "# Sets target column to ORGYN\n",
    "target_dataset = df['ORGYN']\n",
    "# Removes ORGYN from the dataset in order to avoid false predictor.\n",
    "dataset = df.drop(['ORGYN'], axis=1)\n",
    "\n",
    "# Sets random state to 10. This will be kept consistently throughout the case study.\n",
    "random_state = 10\n",
    "# Sets the test size to be 30% of the total data set.\n",
    "test_size = 0.3\n",
    "\n",
    "# Transform the dataset into a matrix.\n",
    "dataset_matrix = dataset.as_matrix()\n",
    "\n",
    "# Splits the data into train and test sets.\n",
    "dataset_train, dataset_test, target_dataset_train, target_dataset_test = train_test_split(dataset_matrix,\n",
    "                                                                                          target_dataset,\n",
    "                                                                                          test_size=test_size,\n",
    "                                                                                          stratify=target_dataset,\n",
    "                                                                                          random_state=random_state\n",
    "                                                                                         )\n",
    "\n",
    "scaler = StandardScaler()\n",
    "dataset_train_scaled = scaler.fit_transform(dataset_train, target_dataset_train)\n",
    "dataset_test_scaled = scaler.transform(dataset_test)\n"
   ]
  },
  {
   "cell_type": "code",
   "execution_count": 38,
   "metadata": {},
   "outputs": [
    {
     "name": "stdout",
     "output_type": "stream",
     "text": [
      "Ensemble soft train accuracy: 0.8176266392388789\n",
      "Ensemble soft test accuracy: 0.8215089245537723\n",
      "ROC score of soft voting classifier: 0.8263013622570544\n",
      "Classification Report for Ensemble:\n",
      "             precision    recall  f1-score   support\n",
      "\n",
      "          0       0.84      0.95      0.89      5015\n",
      "          1       0.74      0.44      0.55      1652\n",
      "\n",
      "avg / total       0.81      0.82      0.80      6667\n",
      "\n"
     ]
    },
    {
     "name": "stderr",
     "output_type": "stream",
     "text": [
      "/Users/maxedman/anaconda3/lib/python3.6/site-packages/sklearn/preprocessing/label.py:151: DeprecationWarning: The truth value of an empty array is ambiguous. Returning False, but in future this will result in an error. Use `array.size > 0` to check that an array is not empty.\n",
      "  if diff:\n",
      "/Users/maxedman/anaconda3/lib/python3.6/site-packages/sklearn/preprocessing/label.py:151: DeprecationWarning: The truth value of an empty array is ambiguous. Returning False, but in future this will result in an error. Use `array.size > 0` to check that an array is not empty.\n",
      "  if diff:\n",
      "/Users/maxedman/anaconda3/lib/python3.6/site-packages/sklearn/preprocessing/label.py:151: DeprecationWarning: The truth value of an empty array is ambiguous. Returning False, but in future this will result in an error. Use `array.size > 0` to check that an array is not empty.\n",
      "  if diff:\n"
     ]
    }
   ],
   "source": [
    "# Needed for accuracy score\n",
    "from sklearn.metrics import roc_auc_score, classification_report, accuracy_score\n",
    "\n",
    "# fit the voting classifier to training data\n",
    "ensemble_voting_model.fit(dataset_train_scaled, target_dataset_train)\n",
    "\n",
    "# evaluate train and test accuracy\n",
    "print(\"Ensemble soft train accuracy:\", ensemble_voting_model.score(dataset_train_scaled, target_dataset_train))\n",
    "print(\"Ensemble soft test accuracy:\", ensemble_voting_model.score(dataset_test_scaled, target_dataset_test))\n",
    "\n",
    "# evaluate ROC auc score\n",
    "y_pred_proba_ensemble = ensemble_voting_model.predict_proba(dataset_test_scaled)\n",
    "roc_index_ensemble = roc_auc_score(target_dataset_test, y_pred_proba_ensemble[:, 1])\n",
    "print(\"ROC score of soft voting classifier:\", roc_index_ensemble)\n",
    "\n",
    "y_pred_ensemble = ensemble_voting_model.predict(dataset_test_scaled)\n",
    "print(\"Classification Report for Ensemble:\")\n",
    "print(classification_report(target_dataset_test, y_pred_ensemble))\n",
    "\n"
   ]
  },
  {
   "cell_type": "markdown",
   "metadata": {},
   "source": [
    "<h2>Task 5.2</h2>"
   ]
  },
  {
   "cell_type": "code",
   "execution_count": 36,
   "metadata": {},
   "outputs": [
    {
     "name": "stdout",
     "output_type": "stream",
     "text": [
      "Accuracy score on test for Decision Tree: 0.8158092095395231\n",
      "Accuracy score on test for Neural Networks: 0.8189590520473976\n",
      "Accuracy score on test for Ensemble: 0.8215089245537723\n"
     ]
    }
   ],
   "source": [
    "\n",
    "y_pred_dt = dt_model.predict(dataset_test)\n",
    "#y_pred_log_reg = log_reg_model.predict(dataset_test_scaled)\n",
    "y_pred_nn = nn_model.predict(dataset_test_scaled)\n",
    "\n",
    "print(\"Accuracy score on test for Decision Tree:\", accuracy_score(target_dataset_test, y_pred_dt))\n",
    "#print(\"Accuracy score on test for logistic regression:\", accuracy_score(target_dataset_test, y_pred_log_reg))\n",
    "print(\"Accuracy score on test for Neural Networks:\", accuracy_score(target_dataset_test, y_pred_nn))\n",
    "print(\"Accuracy score on test for Ensemble:\", accuracy_score(target_dataset_test, y_pred_ensemble))"
   ]
  },
  {
   "cell_type": "code",
   "execution_count": 39,
   "metadata": {},
   "outputs": [
    {
     "name": "stdout",
     "output_type": "stream",
     "text": [
      "Classification Report for Decision Tree:\n",
      "             precision    recall  f1-score   support\n",
      "\n",
      "          0       0.83      0.95      0.89      5015\n",
      "          1       0.72      0.42      0.53      1652\n",
      "\n",
      "avg / total       0.80      0.82      0.80      6667\n",
      "\n",
      "Classification Report for Neural Networks:\n",
      "             precision    recall  f1-score   support\n",
      "\n",
      "          0       0.84      0.94      0.89      5015\n",
      "          1       0.72      0.44      0.55      1652\n",
      "\n",
      "avg / total       0.81      0.82      0.80      6667\n",
      "\n",
      "Classification Report for Ensemble:\n",
      "             precision    recall  f1-score   support\n",
      "\n",
      "          0       0.84      0.95      0.89      5015\n",
      "          1       0.74      0.44      0.55      1652\n",
      "\n",
      "avg / total       0.81      0.82      0.80      6667\n",
      "\n"
     ]
    }
   ],
   "source": [
    "print(\"Classification Report for Decision Tree:\")\n",
    "print(classification_report(target_dataset_test, y_pred_dt))\n",
    "#print(\"Classification Report for logistic regression:\")\n",
    "#print(classification_report(target_dataset_test, y_pred_log_reg))\n",
    "print(\"Classification Report for Neural Networks:\")\n",
    "print(classification_report(target_dataset_test, y_pred_nn))\n",
    "print(\"Classification Report for Ensemble:\")\n",
    "print(classification_report(target_dataset_test, y_pred_ensemble))"
   ]
  },
  {
   "cell_type": "code",
   "execution_count": 43,
   "metadata": {},
   "outputs": [
    {
     "name": "stdout",
     "output_type": "stream",
     "text": [
      "ROC index on test for DT: 0.8185891478108048\n",
      "ROC index on test for NN: 0.8170440856606934\n",
      "ROC index on test for Ensemble: 0.8263013622570544\n"
     ]
    }
   ],
   "source": [
    "\n",
    "y_pred_proba_dt = dt_model.predict_proba(dataset_test)\n",
    "#y_pred_proba_log_reg = log_reg_model.predict_proba(dataset_test_scaled)\n",
    "y_pred_proba_nn = nn_model.predict_proba(dataset_test_scaled)\n",
    "y_pred_proba_ensemble = ensemble_voting_model.predict_proba(dataset_test_scaled)\n",
    "\n",
    "roc_index_dt = roc_auc_score(target_dataset_test, y_pred_proba_dt[:, 1])\n",
    "#roc_index_log_reg = roc_auc_score(target_dataset_test, y_pred_proba_log_reg[:, 1])\n",
    "roc_index_nn = roc_auc_score(target_dataset_test, y_pred_proba_nn[:, 1])\n",
    "roc_index_ensemble = roc_auc_score(target_dataset_test, y_pred_proba_ensemble[:, 1])\n",
    "\n",
    "print(\"ROC index on test for DT:\", roc_index_dt)\n",
    "#print(\"ROC index on test for logistic regression:\", roc_index_log_reg)\n",
    "print(\"ROC index on test for NN:\", roc_index_nn)\n",
    "print(\"ROC index on test for Ensemble:\", roc_index_ensemble)"
   ]
  },
  {
   "cell_type": "code",
   "execution_count": 45,
   "metadata": {},
   "outputs": [],
   "source": [
    "from sklearn.metrics import roc_curve\n",
    "\n",
    "# Gets the false positive rate, true positive rate and thresholds used for each model\n",
    "fpr_dt, tpr_dt, thresholds_dt = roc_curve(target_dataset_test, y_pred_proba_dt[:,1])\n",
    "#fpr_log_reg, tpr_log_reg, thresholds_log_reg = roc_curve(target_dataset_test, y_pred_proba_log_reg[:,1])\n",
    "fpr_nn, tpr_nn, thresholds_nn = roc_curve(target_dataset_test, y_pred_proba_nn[:,1])\n",
    "fpr_ensemble, tpr_ensemble, thresholds_ensemble = roc_curve(target_dataset_test, y_pred_proba_ensemble[:,1])"
   ]
  },
  {
   "cell_type": "code",
   "execution_count": 47,
   "metadata": {},
   "outputs": [
    {
     "data": {
      "image/png": "[encoded data removed]",
      "text/plain": [
       "<matplotlib.figure.Figure at 0x1a0935a898>"
      ]
     },
     "metadata": {},
     "output_type": "display_data"
    }
   ],
   "source": [
    "import matplotlib.pyplot as plt\n",
    "%matplotlib inline\n",
    "\n",
    "# Sets the color to white.\n",
    "params = {\"ytick.color\" : \"w\",\n",
    "          \"xtick.color\" : \"w\",\n",
    "          \"axes.labelcolor\" : \"w\",\n",
    "          \"axes.edgecolor\" : \"w\"}\n",
    "plt.rcParams.update(params)\n",
    "\n",
    "plt.plot(fpr_dt, tpr_dt, label='ROC Curve for DT {:.3f}'.format(roc_index_dt), color='red', lw=0.5)\n",
    "#plt.plot(fpr_log_reg, tpr_log_reg, label='ROC Curve for Log reg {:.3f}'.format(roc_index_log_reg), color='green', lw=0.5)\n",
    "plt.plot(fpr_nn, tpr_nn, label='ROC Curve for NN {:.3f}'.format(roc_index_nn), color='darkorange', lw=0.5)\n",
    "plt.plot(fpr_ensemble, tpr_ensemble, label='ROC Curve for Ensemble {:.3f}'.format(roc_index_ensemble), color='yellow', lw=0.5)\n",
    "\n",
    "# plt.plot(fpr[2], tpr[2], color='darkorange',\n",
    "#          lw=lw, label='ROC curve (area = %0.2f)' % roc_auc[2])\n",
    "plt.plot([0, 1], [0, 1], color='navy', lw=0.5, linestyle='--')\n",
    "plt.xlim([0.0, 1.0])\n",
    "plt.ylim([0.0, 1.0])\n",
    "plt.xlabel('False Positive Rate')\n",
    "plt.ylabel('True Positive Rate')\n",
    "plt.title('Receiver operating characteristic example', color=\"w\")\n",
    "plt.legend(loc=\"lower right\")\n",
    "plt.show()"
   ]
  },
  {
   "cell_type": "code",
   "execution_count": null,
   "metadata": {},
   "outputs": [],
   "source": []
  }
 ],
 "metadata": {
  "kernelspec": {
   "display_name": "Python 3",
   "language": "python",
   "name": "python3"
  },
  "language_info": {
   "codemirror_mode": {
    "name": "ipython",
    "version": 3
   },
   "file_extension": ".py",
   "mimetype": "text/x-python",
   "name": "python",
   "nbconvert_exporter": "python",
   "pygments_lexer": "ipython3",
   "version": "3.6.4"
  }
 },
 "nbformat": 4,
 "nbformat_minor": 2
}
