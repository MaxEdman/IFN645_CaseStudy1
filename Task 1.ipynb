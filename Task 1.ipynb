{
 "cells": [
  {
   "cell_type": "markdown",
   "metadata": {},
   "source": [
    "<h1>Data PreProcessing</h1>"
   ]
  },
  {
   "cell_type": "code",
   "execution_count": 1,
   "metadata": {},
   "outputs": [],
   "source": [
    "import pandas as pd\n",
    "df = pd.read_csv(\"datasets/organics.csv\")\n",
    "df.dtypes\n",
    "df_graph = df"
   ]
  },
  {
   "cell_type": "code",
   "execution_count": 2,
   "metadata": {},
   "outputs": [
    {
     "name": "stdout",
     "output_type": "stream",
     "text": [
      "<class 'pandas.core.frame.DataFrame'>\n",
      "RangeIndex: 22223 entries, 0 to 22222\n",
      "Data columns (total 12 columns):\n",
      "GENDER    19711 non-null object\n",
      "DOB       22223 non-null object\n",
      "EDATE     22223 non-null object\n",
      "AGE       20715 non-null float64\n",
      "TV_REG    21758 non-null object\n",
      "NGROUP    21549 non-null object\n",
      "BILL      22223 non-null float64\n",
      "REGION    21758 non-null object\n",
      "CLASS     22223 non-null object\n",
      "ORGYN     22223 non-null int64\n",
      "AFFL      21138 non-null float64\n",
      "LTIME     21942 non-null float64\n",
      "dtypes: float64(4), int64(1), object(7)\n",
      "memory usage: 2.0+ MB\n"
     ]
    }
   ],
   "source": [
    "df = df.drop(['CUSTID', 'LCDATE', 'ORGANICS', 'AGEGRP1', 'AGEGRP2'], axis = 1)\n",
    "df = df.drop(['NEIGHBORHOOD'], axis = 1)\n",
    "df.info()"
   ]
  },
  {
   "cell_type": "code",
   "execution_count": 3,
   "metadata": {},
   "outputs": [],
   "source": [
    "# Calculates the years between DOB and EDATE and adds that value to age for missing values.\n",
    "from datetime import datetime\n",
    "import numpy as np\n",
    "dateformat = '%Y-%m-%d'\n",
    "edate = pd.Timestamp(df['EDATE'][0])\n",
    "df['DOB'] = pd.to_datetime(df['DOB'], format=dateformat)    # 1\n",
    "df['DOB'] = df['DOB'].where(df['DOB'] < edate, df['DOB'] -  np.timedelta64(100, 'Y'))   # 2\n",
    "df['AGE'] = (edate - df['DOB']).astype('<m8[Y]')    # 3\n",
    "\n",
    "df['AGE']\n",
    "df = df.drop(['EDATE', 'DOB'], axis = 1)\n",
    "#df.info()"
   ]
  },
  {
   "cell_type": "code",
   "execution_count": 4,
   "metadata": {},
   "outputs": [],
   "source": [
    "# denote errorneous values in AFFL column. Should be on scale 1-30.\n",
    "mask = df['AFFL'] < 1\n",
    "df.loc[mask, 'AFFL'] = 1\n",
    "mask = df['AFFL'] > 30\n",
    "df.loc[mask, 'AFFL'] = 30\n",
    "\n",
    "# Fill mean values for AFFL column.\n",
    "df['AFFL'].fillna(df['AFFL'].mean(), inplace=True)\n",
    "# Convert the scale to integer. Not sure if this is necessary.\n",
    "df['AFFL'] = df['AFFL'].astype(int)\n",
    "#df.info()\n",
    "#df['AFFL'].value_counts(bins=8)\n",
    "#sorted(df['AFFL'].unique())"
   ]
  },
  {
   "cell_type": "code",
   "execution_count": 5,
   "metadata": {},
   "outputs": [],
   "source": [
    "# Fills mean values based on age for loyalty time. \n",
    "means = df.groupby(['AGE'])['LTIME'].mean()\n",
    "df = df.set_index(['AGE'])\n",
    "df['LTIME'] = df['LTIME'].fillna(means)\n",
    "df = df.reset_index()\n"
   ]
  },
  {
   "cell_type": "code",
   "execution_count": 6,
   "metadata": {},
   "outputs": [],
   "source": [
    "df['GENDER'].fillna('U', inplace=True)\n",
    "#df['GENDER'].unique()"
   ]
  },
  {
   "cell_type": "code",
   "execution_count": 7,
   "metadata": {},
   "outputs": [],
   "source": [
    "df = pd.get_dummies(df)"
   ]
  },
  {
   "cell_type": "code",
   "execution_count": 8,
   "metadata": {},
   "outputs": [
    {
     "name": "stdout",
     "output_type": "stream",
     "text": [
      "<class 'pandas.core.frame.DataFrame'>\n",
      "RangeIndex: 22223 entries, 0 to 22222\n",
      "Data columns (total 37 columns):\n",
      "AGE                    22223 non-null float64\n",
      "BILL                   22223 non-null float64\n",
      "ORGYN                  22223 non-null int64\n",
      "AFFL                   22223 non-null int64\n",
      "LTIME                  22223 non-null float64\n",
      "GENDER_F               22223 non-null uint8\n",
      "GENDER_M               22223 non-null uint8\n",
      "GENDER_U               22223 non-null uint8\n",
      "TV_REG_Border          22223 non-null uint8\n",
      "TV_REG_C Scotland      22223 non-null uint8\n",
      "TV_REG_East            22223 non-null uint8\n",
      "TV_REG_London          22223 non-null uint8\n",
      "TV_REG_Midlands        22223 non-null uint8\n",
      "TV_REG_N East          22223 non-null uint8\n",
      "TV_REG_N Scot          22223 non-null uint8\n",
      "TV_REG_N West          22223 non-null uint8\n",
      "TV_REG_S & S East      22223 non-null uint8\n",
      "TV_REG_S West          22223 non-null uint8\n",
      "TV_REG_Ulster          22223 non-null uint8\n",
      "TV_REG_Wales & West    22223 non-null uint8\n",
      "TV_REG_Yorkshire       22223 non-null uint8\n",
      "NGROUP_A               22223 non-null uint8\n",
      "NGROUP_B               22223 non-null uint8\n",
      "NGROUP_C               22223 non-null uint8\n",
      "NGROUP_D               22223 non-null uint8\n",
      "NGROUP_E               22223 non-null uint8\n",
      "NGROUP_F               22223 non-null uint8\n",
      "NGROUP_U               22223 non-null uint8\n",
      "REGION_Midlands        22223 non-null uint8\n",
      "REGION_North           22223 non-null uint8\n",
      "REGION_Scottish        22223 non-null uint8\n",
      "REGION_South East      22223 non-null uint8\n",
      "REGION_South West      22223 non-null uint8\n",
      "CLASS_Gold             22223 non-null uint8\n",
      "CLASS_Platinum         22223 non-null uint8\n",
      "CLASS_Silver           22223 non-null uint8\n",
      "CLASS_Tin              22223 non-null uint8\n",
      "dtypes: float64(3), int64(2), uint8(32)\n",
      "memory usage: 1.5 MB\n"
     ]
    }
   ],
   "source": [
    "df.info()"
   ]
  },
  {
   "cell_type": "code",
   "execution_count": 9,
   "metadata": {},
   "outputs": [],
   "source": [
    "import matplotlib.pyplot as plt\n",
    "import seaborn as sns\n",
    "\n",
    "# Sets the color to white.\n",
    "params = {\"ytick.color\" : \"w\",\n",
    "          \"xtick.color\" : \"w\",\n",
    "          \"axes.labelcolor\" : \"w\",\n",
    "          \"axes.edgecolor\" : \"w\"}\n",
    "plt.rcParams.update(params)"
   ]
  },
  {
   "cell_type": "code",
   "execution_count": 10,
   "metadata": {},
   "outputs": [
    {
     "data": {
      "image/png": "[encoded data removed]",
      "text/plain": [
       "<matplotlib.figure.Figure at 0x1a1ee52da0>"
      ]
     },
     "metadata": {},
     "output_type": "display_data"
    }
   ],
   "source": [
    "g = sns.countplot(data = df, x = 'ORGYN')\n",
    "plt.show()"
   ]
  },
  {
   "cell_type": "code",
   "execution_count": 11,
   "metadata": {},
   "outputs": [
    {
     "name": "stdout",
     "output_type": "stream",
     "text": [
      "<class 'pandas.core.frame.DataFrame'>\n",
      "RangeIndex: 22223 entries, 0 to 22222\n",
      "Data columns (total 18 columns):\n",
      "CUSTID          22223 non-null int64\n",
      "GENDER          19711 non-null object\n",
      "DOB             22223 non-null object\n",
      "EDATE           22223 non-null object\n",
      "AGE             20715 non-null float64\n",
      "AGEGRP1         20715 non-null object\n",
      "AGEGRP2         20715 non-null object\n",
      "TV_REG          21758 non-null object\n",
      "NGROUP          21549 non-null object\n",
      "NEIGHBORHOOD    21549 non-null float64\n",
      "LCDATE          21942 non-null object\n",
      "ORGANICS        22223 non-null int64\n",
      "BILL            22223 non-null float64\n",
      "REGION          21758 non-null object\n",
      "CLASS           22223 non-null object\n",
      "ORGYN           22223 non-null int64\n",
      "AFFL            21138 non-null float64\n",
      "LTIME           21942 non-null float64\n",
      "dtypes: float64(5), int64(3), object(10)\n",
      "memory usage: 3.1+ MB\n"
     ]
    },
    {
     "data": {
      "image/png": "[encoded data removed]",
      "text/plain": [
       "<matplotlib.figure.Figure at 0x1a1f02beb8>"
      ]
     },
     "metadata": {},
     "output_type": "display_data"
    }
   ],
   "source": [
    "data = df_graph.loc[df_graph['ORGYN'] == 1]\n",
    "g = sns.countplot(data = data, x = 'GENDER')\n",
    "plt.show()"
   ]
  },
  {
   "cell_type": "code",
   "execution_count": 12,
   "metadata": {},
   "outputs": [
    {
     "data": {
      "image/png": "[encoded data removed]",
      "text/plain": [
       "<matplotlib.figure.Figure at 0x1a1ef76b38>"
      ]
     },
     "metadata": {},
     "output_type": "display_data"
    }
   ],
   "source": [
    "g = sns.boxplot(x='ORGYN', y='AFFL', data=df)\n",
    "plt.show()"
   ]
  },
  {
   "cell_type": "code",
   "execution_count": 13,
   "metadata": {},
   "outputs": [
    {
     "data": {
      "image/png": "[encoded data removed]",
      "text/plain": [
       "<matplotlib.figure.Figure at 0x1a1ef814a8>"
      ]
     },
     "metadata": {},
     "output_type": "display_data"
    }
   ],
   "source": [
    "g = sns.boxplot(x='ORGANICS', y='AFFL', data=df_graph)\n",
    "plt.show()"
   ]
  },
  {
   "cell_type": "code",
   "execution_count": 14,
   "metadata": {},
   "outputs": [
    {
     "data": {
      "image/png": "[encoded data removed]",
      "text/plain": [
       "<matplotlib.figure.Figure at 0x11313ef98>"
      ]
     },
     "metadata": {},
     "output_type": "display_data"
    }
   ],
   "source": [
    "g = sns.boxplot(x='ORGANICS', y='AGE', data=df_graph)\n",
    "plt.show()"
   ]
  },
  {
   "cell_type": "code",
   "execution_count": 15,
   "metadata": {},
   "outputs": [
    {
     "data": {
      "image/png": "[encoded data removed]",
      "text/plain": [
       "<matplotlib.figure.Figure at 0x1a226347f0>"
      ]
     },
     "metadata": {},
     "output_type": "display_data"
    }
   ],
   "source": [
    "g = sns.boxplot(x='ORGYN', y='AGE', data=df)\n",
    "plt.show()"
   ]
  },
  {
   "cell_type": "code",
   "execution_count": null,
   "metadata": {},
   "outputs": [],
   "source": []
  }
 ],
 "metadata": {
  "kernelspec": {
   "display_name": "Python 3",
   "language": "python",
   "name": "python3"
  },
  "language_info": {
   "codemirror_mode": {
    "name": "ipython",
    "version": 3
   },
   "file_extension": ".py",
   "mimetype": "text/x-python",
   "name": "python",
   "nbconvert_exporter": "python",
   "pygments_lexer": "ipython3",
   "version": "3.6.4"
  }
 },
 "nbformat": 4,
 "nbformat_minor": 2
}
