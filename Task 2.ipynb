{
 "cells": [
  {
   "cell_type": "markdown",
   "metadata": {},
   "source": [
    "<h1>Using the default decision tree settings</h1>"
   ]
  },
  {
   "cell_type": "code",
   "execution_count": 1,
   "metadata": {},
   "outputs": [
    {
     "name": "stdout",
     "output_type": "stream",
     "text": [
      "<class 'pandas.core.frame.DataFrame'>\n",
      "RangeIndex: 22223 entries, 0 to 22222\n",
      "Data columns (total 37 columns):\n",
      "AGE                    22223 non-null float64\n",
      "BILL                   22223 non-null float64\n",
      "ORGYN                  22223 non-null int64\n",
      "AFFL                   22223 non-null int64\n",
      "LTIME                  22223 non-null float64\n",
      "GENDER_F               22223 non-null uint8\n",
      "GENDER_M               22223 non-null uint8\n",
      "GENDER_U               22223 non-null uint8\n",
      "TV_REG_Border          22223 non-null uint8\n",
      "TV_REG_C Scotland      22223 non-null uint8\n",
      "TV_REG_East            22223 non-null uint8\n",
      "TV_REG_London          22223 non-null uint8\n",
      "TV_REG_Midlands        22223 non-null uint8\n",
      "TV_REG_N East          22223 non-null uint8\n",
      "TV_REG_N Scot          22223 non-null uint8\n",
      "TV_REG_N West          22223 non-null uint8\n",
      "TV_REG_S & S East      22223 non-null uint8\n",
      "TV_REG_S West          22223 non-null uint8\n",
      "TV_REG_Ulster          22223 non-null uint8\n",
      "TV_REG_Wales & West    22223 non-null uint8\n",
      "TV_REG_Yorkshire       22223 non-null uint8\n",
      "NGROUP_A               22223 non-null uint8\n",
      "NGROUP_B               22223 non-null uint8\n",
      "NGROUP_C               22223 non-null uint8\n",
      "NGROUP_D               22223 non-null uint8\n",
      "NGROUP_E               22223 non-null uint8\n",
      "NGROUP_F               22223 non-null uint8\n",
      "NGROUP_U               22223 non-null uint8\n",
      "REGION_Midlands        22223 non-null uint8\n",
      "REGION_North           22223 non-null uint8\n",
      "REGION_Scottish        22223 non-null uint8\n",
      "REGION_South East      22223 non-null uint8\n",
      "REGION_South West      22223 non-null uint8\n",
      "CLASS_Gold             22223 non-null uint8\n",
      "CLASS_Platinum         22223 non-null uint8\n",
      "CLASS_Silver           22223 non-null uint8\n",
      "CLASS_Tin              22223 non-null uint8\n",
      "dtypes: float64(3), int64(2), uint8(32)\n",
      "memory usage: 1.5 MB\n"
     ]
    }
   ],
   "source": [
    "# Gets the preprocessed data set for Organics.\n",
    "import casestudy_tools as tools\n",
    "df = tools.preprocess()\n",
    "df.info()"
   ]
  },
  {
   "cell_type": "code",
   "execution_count": 2,
   "metadata": {},
   "outputs": [
    {
     "name": "stdout",
     "output_type": "stream",
     "text": [
      "Default Decision Tree Statistics:\n",
      "Train Acuracy: 0.998585754692723\n",
      "Test Acuracy: 0.7381130943452827\n",
      "\n",
      "Classification Report:\n",
      "             precision    recall  f1-score   support\n",
      "\n",
      "          0       0.83      0.82      0.83      5015\n",
      "          1       0.47      0.48      0.48      1652\n",
      "\n",
      "avg / total       0.74      0.74      0.74      6667\n",
      "\n"
     ]
    }
   ],
   "source": [
    "# Building a decision tree using the default settings.\n",
    "from sklearn.model_selection import train_test_split\n",
    "from sklearn.tree import DecisionTreeClassifier\n",
    "from sklearn.metrics import classification_report, accuracy_score\n",
    "\n",
    "# Sets target column to ORGYN\n",
    "target_dataset = df['ORGYN']\n",
    "# Removes ORGYN from the dataset in order to avoid false predictor.\n",
    "dataset = df.drop(['ORGYN'], axis=1)\n",
    "\n",
    "# Sets random state to 10. This will be kept consistently throughout the case study.\n",
    "random_state = 10\n",
    "# Sets the test size to be 30% of the total data set.\n",
    "test_size = 0.3\n",
    "\n",
    "# Transform the dataset into a matrix.\n",
    "dataset_matrix = dataset.as_matrix()\n",
    "\n",
    "# Splits the data into train and test sets.\n",
    "dataset_train, dataset_test, target_dataset_train, target_dataset_test = train_test_split(dataset_matrix,\n",
    "                                                                                          target_dataset,\n",
    "                                                                                          test_size=test_size,\n",
    "                                                                                          stratify=target_dataset,\n",
    "                                                                                          random_state=random_state\n",
    "                                                                                         )\n",
    "\n",
    "# Training a decision tree model based on deafault settings.\n",
    "decisiontree_model_def = DecisionTreeClassifier(random_state=random_state)\n",
    "decisiontree_model_def.fit(dataset_train, target_dataset_train)\n",
    "\n",
    "# Prints train and test accuracy.\n",
    "print(\"Default Decision Tree Statistics:\")\n",
    "print(\"Train Acuracy:\", decisiontree_model_def.score(dataset_train, target_dataset_train))\n",
    "print(\"Test Acuracy:\", decisiontree_model_def.score(dataset_test, target_dataset_test))\n",
    "\n",
    "# Printing a classification report of the model.\n",
    "print(\"\")\n",
    "print(\"Classification Report:\")\n",
    "target_predict = decisiontree_model_def.predict(dataset_test)\n",
    "print(classification_report(target_dataset_test, target_predict))\n"
   ]
  },
  {
   "cell_type": "code",
   "execution_count": 3,
   "metadata": {},
   "outputs": [
    {
     "name": "stdout",
     "output_type": "stream",
     "text": [
      "AGE : 0.2998210956388579\n",
      "AFFL : 0.14745360754933678\n",
      "BILL : 0.10846261215134576\n",
      "LTIME : 0.1051955950169931\n",
      "GENDER_F : 0.04435764128396906\n",
      "NGROUP_C : 0.020652082351299346\n",
      "NGROUP_F : 0.020411633405873066\n",
      "NGROUP_B : 0.018978413418318976\n",
      "NGROUP_D : 0.01848490123906868\n",
      "TV_REG_Midlands : 0.01803783161674561\n",
      "NGROUP_E : 0.017996652764470735\n",
      "TV_REG_London : 0.016778604651857223\n",
      "REGION_Midlands : 0.01297957778682568\n",
      "TV_REG_N West : 0.012567941951689018\n",
      "TV_REG_S & S East : 0.01242535986993021\n",
      "CLASS_Silver : 0.012027807687327237\n",
      "NGROUP_A : 0.011691227817154596\n",
      "TV_REG_East : 0.010191688076453818\n",
      "REGION_South East : 0.010181270742274302\n",
      "TV_REG_Yorkshire : 0.009938115826605554\n",
      "REGION_North : 0.009078298539291181\n",
      "TV_REG_Wales & West : 0.009063046816459567\n",
      "TV_REG_C Scotland : 0.007381700152823672\n",
      "CLASS_Tin : 0.006914691572999246\n",
      "CLASS_Gold : 0.006853827232143927\n",
      "TV_REG_N East : 0.006252132706594195\n",
      "REGION_Scottish : 0.005118019631301024\n",
      "TV_REG_N Scot : 0.004112832788036579\n",
      "GENDER_U : 0.004106208517319032\n",
      "REGION_South West : 0.0036274497072266393\n",
      "TV_REG_S West : 0.0032969706969390683\n",
      "CLASS_Platinum : 0.0020977510617756338\n",
      "TV_REG_Ulster : 0.0012451429306358794\n",
      "TV_REG_Border : 0.0010508690652372876\n",
      "GENDER_M : 0.0006586530450849805\n",
      "NGROUP_U : 0.0005087446897354685\n"
     ]
    }
   ],
   "source": [
    "# Evaluating the feature importance of the default_decision tree\n",
    "import numpy as np\n",
    "\n",
    "# Gets feature importance and relates to the column names of the model\n",
    "feature_importances = decisiontree_model_def.feature_importances_\n",
    "feature_names = dataset.columns\n",
    "\n",
    "# Sorts the features\n",
    "feature_indices = np.flip(np.argsort(feature_importances), axis=0)\n",
    "\n",
    "# Prints the features\n",
    "for i in feature_indices:\n",
    "    print(feature_names[i], ':', feature_importances[i])"
   ]
  },
  {
   "cell_type": "code",
   "execution_count": 4,
   "metadata": {},
   "outputs": [],
   "source": [
    "# Creates a png-file of the default decision tree in order to visualise it.\n",
    "tools.visualize_decision_tree(decisiontree_model_def, feature_names, \"Default Decision Tree - Task 2.png\")"
   ]
  },
  {
   "cell_type": "code",
   "execution_count": 5,
   "metadata": {},
   "outputs": [
    {
     "name": "stdout",
     "output_type": "stream",
     "text": [
      "Decision Tree Statistics:\n",
      "Train Acuracy: 0.8187194651581383\n",
      "Test Acuracy: 0.8162591870406479\n",
      "Accuracy Difference: 0.0024602781174903887\n",
      "\n",
      "Classification Report:\n",
      "             precision    recall  f1-score   support\n",
      "\n",
      "          0       0.83      0.95      0.89      5015\n",
      "          1       0.72      0.42      0.53      1652\n",
      "\n",
      "avg / total       0.80      0.82      0.80      6667\n",
      "\n"
     ]
    }
   ],
   "source": [
    "\n",
    "# Training a decision tree model based on deafault settings.\n",
    "decisiontree_model_optimal = DecisionTreeClassifier(max_depth=5, random_state=random_state)\n",
    "decisiontree_model_optimal.fit(dataset_train, target_dataset_train)\n",
    "\n",
    "train_accuracy = decisiontree_model_optimal.score(dataset_train, target_dataset_train)\n",
    "test_accuracy = decisiontree_model_optimal.score(dataset_test, target_dataset_test)\n",
    "# Prints train and test accuracy.\n",
    "print(\"Decision Tree Statistics:\")\n",
    "print(\"Train Acuracy:\", train_accuracy)\n",
    "print(\"Test Acuracy:\", test_accuracy)\n",
    "print(\"Accuracy Difference:\", train_accuracy - test_accuracy)\n",
    "\n",
    "# Printing a classification report of the model.\n",
    "print(\"\")\n",
    "print(\"Classification Report:\")\n",
    "target_predict = decisiontree_model_optimal.predict(dataset_test)\n",
    "print(classification_report(target_dataset_test, target_predict))\n"
   ]
  },
  {
   "cell_type": "code",
   "execution_count": 6,
   "metadata": {},
   "outputs": [
    {
     "name": "stdout",
     "output_type": "stream",
     "text": [
      "AGE : 0.5223047727869613\n",
      "AFFL : 0.3137192735858661\n",
      "GENDER_F : 0.14719991911100075\n",
      "GENDER_U : 0.011264617376759541\n",
      "GENDER_M : 0.004547477591745247\n",
      "NGROUP_D : 0.0005890903376042116\n",
      "NGROUP_C : 0.00037484921006284084\n",
      "TV_REG_N West : 0.0\n",
      "TV_REG_N Scot : 0.0\n",
      "TV_REG_N East : 0.0\n",
      "TV_REG_Midlands : 0.0\n",
      "TV_REG_C Scotland : 0.0\n",
      "TV_REG_London : 0.0\n",
      "TV_REG_East : 0.0\n",
      "TV_REG_S West : 0.0\n",
      "TV_REG_Border : 0.0\n",
      "LTIME : 0.0\n",
      "BILL : 0.0\n",
      "TV_REG_S & S East : 0.0\n",
      "CLASS_Tin : 0.0\n",
      "CLASS_Silver : 0.0\n",
      "TV_REG_Wales & West : 0.0\n",
      "TV_REG_Yorkshire : 0.0\n",
      "NGROUP_A : 0.0\n",
      "NGROUP_B : 0.0\n",
      "NGROUP_E : 0.0\n",
      "NGROUP_F : 0.0\n",
      "NGROUP_U : 0.0\n",
      "REGION_Midlands : 0.0\n",
      "REGION_North : 0.0\n",
      "REGION_Scottish : 0.0\n",
      "REGION_South East : 0.0\n",
      "REGION_South West : 0.0\n",
      "CLASS_Gold : 0.0\n",
      "CLASS_Platinum : 0.0\n",
      "TV_REG_Ulster : 0.0\n"
     ]
    }
   ],
   "source": [
    "# Evaluating the feature importance of the default_decision tree\n",
    "import numpy as np\n",
    "\n",
    "# Gets feature importance and relates to the column names of the model\n",
    "feature_importances = decisiontree_model_optimal.feature_importances_\n",
    "feature_names = dataset.columns\n",
    "\n",
    "# Sorts the features\n",
    "feature_indices = np.flip(np.argsort(feature_importances), axis=0)\n",
    "\n",
    "# Prints the features\n",
    "for i in feature_indices:\n",
    "    print(feature_names[i], ':', feature_importances[i])"
   ]
  },
  {
   "cell_type": "code",
   "execution_count": 7,
   "metadata": {},
   "outputs": [],
   "source": [
    "# Creates a png-file of the optimal decision tree in order to visualise it.\n",
    "tools.visualize_decision_tree(decisiontree_model_optimal, feature_names, \"Optimal Decision Tree - Task 2.png\")"
   ]
  },
  {
   "cell_type": "code",
   "execution_count": 8,
   "metadata": {},
   "outputs": [
    {
     "data": {
      "text/plain": [
       "<matplotlib.figure.Figure at 0x1a258c0a20>"
      ]
     },
     "metadata": {},
     "output_type": "display_data"
    },
    {
     "name": "stdout",
     "output_type": "stream",
     "text": [
      "This shows that the optimal node depth of the decision tree is 5.\n",
      "Anything over a max depth of 5 is considered to overfit the model to the train data.\n"
     ]
    }
   ],
   "source": [
    "# Visualising relationship between hyperparameters and model performance\n",
    "import matplotlib.pyplot as plt\n",
    "\n",
    "# Sets the color to white.\n",
    "params = {\"ytick.color\" : \"w\",\n",
    "          \"xtick.color\" : \"w\",\n",
    "          \"axes.labelcolor\" : \"w\",\n",
    "          \"axes.edgecolor\" : \"w\"}\n",
    "plt.rcParams.update(params)\n",
    "\n",
    "test_score = []\n",
    "train_score = []\n",
    "\n",
    "# check the model performance for max depth from 2-20\n",
    "for max_depth in range(2, 21):\n",
    "    model = DecisionTreeClassifier(max_depth=max_depth, random_state=random_state)\n",
    "    model.fit(dataset_train, target_dataset_train)\n",
    "    \n",
    "    test_score.append(model.score(dataset_test, target_dataset_test))\n",
    "    train_score.append(model.score(dataset_train, target_dataset_train))\n",
    "\n",
    "# plot max depth hyperparameter values vs training and test accuracy score\n",
    "plt.plot(range(2, 21), train_score, 'b', range(2,21), test_score, 'r')\n",
    "plt.xlabel('max_depth\\nBlue = training acc. Red = test acc.')\n",
    "plt.ylabel('accuracy')\n",
    "plt.show()\n",
    "\n",
    "print(\"This shows that the optimal node depth of the decision tree is 5.\")\n",
    "print(\"Anything over a max depth of 5 is considered to overfit the model to the train data.\")"
   ]
  },
  {
   "cell_type": "markdown",
   "metadata": {},
   "source": [
    "<h1>Using CVSearch</h1>"
   ]
  },
  {
   "cell_type": "code",
   "execution_count": 9,
   "metadata": {},
   "outputs": [
    {
     "name": "stdout",
     "output_type": "stream",
     "text": [
      "Train accuracy: 0.8180123425044998\n",
      "Test accuracy: 0.8158092095395231\n",
      "             precision    recall  f1-score   support\n",
      "\n",
      "          0       0.83      0.95      0.89      5015\n",
      "          1       0.72      0.42      0.53      1652\n",
      "\n",
      "avg / total       0.80      0.82      0.80      6667\n",
      "\n",
      "{'criterion': 'entropy', 'max_depth': 4, 'min_samples_leaf': 10}\n"
     ]
    }
   ],
   "source": [
    "from sklearn.model_selection import GridSearchCV\n",
    "\n",
    "# grid search CV\n",
    "params = {'criterion': ['gini', 'entropy'],\n",
    "          'max_depth': range(2, 5),\n",
    "          'min_samples_leaf': range(10, 50, 10)}\n",
    "\n",
    "cross_validation_model = GridSearchCV(param_grid=params,\n",
    "                                      estimator=DecisionTreeClassifier(random_state=random_state),\n",
    "                                      cv=10)\n",
    "cross_validation_model.fit(dataset_train, target_dataset_train)\n",
    "\n",
    "print(\"Train accuracy:\", cross_validation_model.score(dataset_train, target_dataset_train))\n",
    "print(\"Test accuracy:\", cross_validation_model.score(dataset_test, target_dataset_test))\n",
    "\n",
    "# test the best model\n",
    "target_prediction = cross_validation_model.predict(dataset_test)\n",
    "print(classification_report(target_dataset_test, target_prediction))\n",
    "\n",
    "# print parameters of the best model\n",
    "print(cross_validation_model.best_params_)\n"
   ]
  },
  {
   "cell_type": "code",
   "execution_count": 10,
   "metadata": {},
   "outputs": [
    {
     "name": "stdout",
     "output_type": "stream",
     "text": [
      "Decision Tree Statistics:\n",
      "Train Acuracy: 0.8180123425044998\n",
      "Test Acuracy: 0.8158092095395231\n",
      "Accuracy Difference: 0.0022031329649767617\n",
      "             precision    recall  f1-score   support\n",
      "\n",
      "          0       0.83      0.95      0.89      5015\n",
      "          1       0.72      0.42      0.53      1652\n",
      "\n",
      "avg / total       0.80      0.82      0.80      6667\n",
      "\n",
      "{'criterion': 'entropy', 'max_depth': 4, 'min_samples_leaf': 1}\n"
     ]
    }
   ],
   "source": [
    "from sklearn.model_selection import GridSearchCV\n",
    "\n",
    "# grid search CV\n",
    "params = {'criterion': ['gini', 'entropy'],\n",
    "          'max_depth': range(2, 5),\n",
    "          'min_samples_leaf': range(1, 2)}\n",
    "\n",
    "cross_validation_optimal_model = GridSearchCV(param_grid=params,\n",
    "                                      estimator=DecisionTreeClassifier(random_state=random_state),\n",
    "                                      cv=10)\n",
    "cross_validation_optimal_model.fit(dataset_train, target_dataset_train)\n",
    "\n",
    "train_accuracy_optimal_cv = cross_validation_optimal_model.score(dataset_train, target_dataset_train)\n",
    "test_accuracy_optimal_cv = cross_validation_optimal_model.score(dataset_test, target_dataset_test)\n",
    "# Prints train and test accuracy.\n",
    "print(\"Decision Tree Statistics:\")\n",
    "print(\"Train Acuracy:\", train_accuracy_optimal_cv)\n",
    "print(\"Test Acuracy:\", test_accuracy_optimal_cv)\n",
    "print(\"Accuracy Difference:\", train_accuracy_optimal_cv - test_accuracy_optimal_cv)\n",
    "\n",
    "\n",
    "# test the best model\n",
    "target_prediction = cross_validation_optimal_model.predict(dataset_test)\n",
    "print(classification_report(target_dataset_test, target_prediction))\n",
    "\n",
    "# print parameters of the best model\n",
    "print(cross_validation_optimal_model.best_params_)"
   ]
  },
  {
   "cell_type": "code",
   "execution_count": 11,
   "metadata": {},
   "outputs": [
    {
     "name": "stdout",
     "output_type": "stream",
     "text": [
      "AGE : 0.49485945014637384\n",
      "AFFL : 0.32121441453906774\n",
      "GENDER_F : 0.17358620214856707\n",
      "GENDER_U : 0.010339933165991314\n",
      "TV_REG_London : 0.0\n",
      "TV_REG_S & S East : 0.0\n",
      "TV_REG_N West : 0.0\n",
      "TV_REG_N Scot : 0.0\n",
      "TV_REG_N East : 0.0\n",
      "TV_REG_Midlands : 0.0\n",
      "TV_REG_C Scotland : 0.0\n",
      "TV_REG_East : 0.0\n",
      "CLASS_Silver : 0.0\n",
      "TV_REG_Border : 0.0\n",
      "GENDER_M : 0.0\n",
      "LTIME : 0.0\n",
      "BILL : 0.0\n",
      "TV_REG_S West : 0.0\n",
      "CLASS_Tin : 0.0\n",
      "TV_REG_Wales & West : 0.0\n",
      "REGION_Midlands : 0.0\n",
      "CLASS_Platinum : 0.0\n",
      "CLASS_Gold : 0.0\n",
      "REGION_South West : 0.0\n",
      "REGION_South East : 0.0\n",
      "REGION_Scottish : 0.0\n",
      "REGION_North : 0.0\n",
      "NGROUP_U : 0.0\n",
      "TV_REG_Yorkshire : 0.0\n",
      "NGROUP_F : 0.0\n",
      "NGROUP_E : 0.0\n",
      "NGROUP_D : 0.0\n",
      "NGROUP_C : 0.0\n",
      "NGROUP_B : 0.0\n",
      "NGROUP_A : 0.0\n",
      "TV_REG_Ulster : 0.0\n"
     ]
    }
   ],
   "source": [
    "# Gets feature importance and relates to the column names of the model\n",
    "feature_importances_cv = cross_validation_optimal_model.best_estimator_.feature_importances_\n",
    "feature_names_cv = dataset.columns\n",
    "\n",
    "# Sorts the features\n",
    "feature_indices_cv = np.flip(np.argsort(feature_importances_cv), axis=0)\n",
    "\n",
    "# Prints the features\n",
    "for i in feature_indices_cv:\n",
    "    print(feature_names_cv[i], ':', feature_importances_cv[i])"
   ]
  },
  {
   "cell_type": "code",
   "execution_count": 12,
   "metadata": {},
   "outputs": [],
   "source": [
    "# Creates a png-file of the optimal decision tree in order to visualise it.\n",
    "tools.visualize_decision_tree(cross_validation_optimal_model.best_estimator_, feature_names, \"Optimal Decision Tree by Cross-validation - Task 2.png\")\n",
    "\n",
    "\n",
    "\n",
    "\n",
    "\n",
    "\n",
    "\n",
    "\n",
    "\n",
    "\n",
    "\n",
    "\n",
    "\n",
    "\n",
    "\n",
    "\n",
    "\n",
    "\n"
   ]
  },
  {
   "cell_type": "code",
   "execution_count": null,
   "metadata": {},
   "outputs": [],
   "source": []
  }
 ],
 "metadata": {
  "kernelspec": {
   "display_name": "Python 3",
   "language": "python",
   "name": "python3"
  },
  "language_info": {
   "codemirror_mode": {
    "name": "ipython",
    "version": 3
   },
   "file_extension": ".py",
   "mimetype": "text/x-python",
   "name": "python",
   "nbconvert_exporter": "python",
   "pygments_lexer": "ipython3",
   "version": "3.6.4"
  }
 },
 "nbformat": 4,
 "nbformat_minor": 2
}
